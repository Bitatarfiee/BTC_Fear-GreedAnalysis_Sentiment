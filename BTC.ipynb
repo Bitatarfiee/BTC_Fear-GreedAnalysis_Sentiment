{
 "cells": [
  {
   "cell_type": "code",
   "execution_count": 1,
   "id": "c398c6a3-cbb2-44ba-a22a-8b8a3014d139",
   "metadata": {},
   "outputs": [
    {
     "name": "stderr",
     "output_type": "stream",
     "text": [
      "2024-06-09 07:34:30.175016: I tensorflow/core/util/port.cc:113] oneDNN custom operations are on. You may see slightly different numerical results due to floating-point round-off errors from different computation orders. To turn them off, set the environment variable `TF_ENABLE_ONEDNN_OPTS=0`.\n",
      "2024-06-09 07:34:30.184501: I external/local_tsl/tsl/cuda/cudart_stub.cc:32] Could not find cuda drivers on your machine, GPU will not be used.\n",
      "2024-06-09 07:34:30.608371: I external/local_tsl/tsl/cuda/cudart_stub.cc:32] Could not find cuda drivers on your machine, GPU will not be used.\n",
      "2024-06-09 07:34:32.226716: I tensorflow/core/platform/cpu_feature_guard.cc:210] This TensorFlow binary is optimized to use available CPU instructions in performance-critical operations.\n",
      "To enable the following instructions: AVX2 AVX512F AVX512_VNNI FMA, in other operations, rebuild TensorFlow with the appropriate compiler flags.\n",
      "2024-06-09 07:34:34.773379: W tensorflow/compiler/tf2tensorrt/utils/py_utils.cc:38] TF-TRT Warning: Could not find TensorRT\n"
     ]
    }
   ],
   "source": [
    "import os\n",
    "import numpy as np\n",
    "import pandas as pd\n",
    "import seaborn as sns\n",
    "import matplotlib.pyplot as plt\n",
    "from nltk.corpus import stopwords\n",
    "from nltk.stem import WordNetLemmatizer\n",
    "from nltk.tokenize import word_tokenize\n",
    "from wordcloud import WordCloud,STOPWORDS\n",
    "from bs4 import BeautifulSoup\n",
    "import re,string,unicodedata\n",
    "import os\n",
    "from IPython.display import Image\n",
    "\n",
    "from sklearn.feature_extraction.text import CountVectorizer, TfidfVectorizer\n",
    "from sklearn.linear_model import LogisticRegression\n",
    "from sklearn.svm import LinearSVC\n",
    "from sklearn.ensemble import GradientBoostingClassifier\n",
    "from sklearn.naive_bayes import GaussianNB, MultinomialNB\n",
    "from sklearn.model_selection import train_test_split\n",
    "from sklearn.metrics import classification_report, accuracy_score, confusion_matrix, RocCurveDisplay, PrecisionRecallDisplay, ConfusionMatrixDisplay\n",
    "#from xgboost.sklearn import XGBClassifier\n",
    "\n",
    "import tensorflow as tf\n",
    "from tensorflow.keras.preprocessing.text import Tokenizer\n",
    "from tensorflow.keras.preprocessing.sequence import pad_sequences\n",
    "from tensorflow.keras.callbacks import ModelCheckpoint\n",
    "from tensorflow.keras.layers import Dense,Input, Embedding,LSTM,Dropout,Conv1D, MaxPooling1D, GlobalMaxPooling1D,Dropout,Bidirectional,Flatten,BatchNormalization\n",
    "from tensorflow.keras.callbacks import EarlyStopping\n",
    "from tensorflow.keras.models import Model\n",
    "from tensorflow.keras.optimizers import Adam\n",
    "from tensorflow.keras.utils import plot_model\n",
    "#import transformers\n",
    "#import tokenizers\n",
    "import pandas as pd\n",
    "from sklearn.model_selection import train_test_split\n",
    "from sklearn.feature_extraction.text import CountVectorizer\n",
    "from sklearn.linear_model import LogisticRegression\n",
    "from sklearn.pipeline import Pipeline\n",
    "from sklearn.metrics import classification_report, accuracy_score\n",
    "from sklearn.utils.class_weight import compute_class_weight"
   ]
  },
  {
   "cell_type": "code",
   "execution_count": 2,
   "id": "b20b5ead-68a4-46f3-a0c9-e835ca8552df",
   "metadata": {},
   "outputs": [],
   "source": [
    "#loading data\n",
    "data = pd.read_excel('final_data1.xlsx')\n",
    "data1= data.copy()"
   ]
  },
  {
   "cell_type": "code",
   "execution_count": 3,
   "id": "8dc351b0-e613-4bd9-aa54-972229a150a8",
   "metadata": {},
   "outputs": [
    {
     "data": {
      "text/html": [
       "<div>\n",
       "<style scoped>\n",
       "    .dataframe tbody tr th:only-of-type {\n",
       "        vertical-align: middle;\n",
       "    }\n",
       "\n",
       "    .dataframe tbody tr th {\n",
       "        vertical-align: top;\n",
       "    }\n",
       "\n",
       "    .dataframe thead th {\n",
       "        text-align: right;\n",
       "    }\n",
       "</style>\n",
       "<table border=\"1\" class=\"dataframe\">\n",
       "  <thead>\n",
       "    <tr style=\"text-align: right;\">\n",
       "      <th></th>\n",
       "      <th>item</th>\n",
       "      <th>date</th>\n",
       "      <th>text</th>\n",
       "      <th>number</th>\n",
       "      <th>class</th>\n",
       "      <th>price</th>\n",
       "    </tr>\n",
       "  </thead>\n",
       "  <tbody>\n",
       "    <tr>\n",
       "      <th>0</th>\n",
       "      <td>1.0</td>\n",
       "      <td>2022-10-03</td>\n",
       "      <td>DMG Blockchain Solutions goes live on the Boso...</td>\n",
       "      <td>24</td>\n",
       "      <td>Extreme Fear</td>\n",
       "      <td>19623.58008</td>\n",
       "    </tr>\n",
       "    <tr>\n",
       "      <th>1</th>\n",
       "      <td>2.0</td>\n",
       "      <td>2022-10-03</td>\n",
       "      <td>NYDIG Promotes Leaders Amidst Record Bitcoin B...</td>\n",
       "      <td>24</td>\n",
       "      <td>Extreme Fear</td>\n",
       "      <td>19623.58008</td>\n",
       "    </tr>\n",
       "    <tr>\n",
       "      <th>2</th>\n",
       "      <td>3.0</td>\n",
       "      <td>2022-10-03</td>\n",
       "      <td>Bitcoin Mining as Bad for Planet as Oil Drilli...</td>\n",
       "      <td>24</td>\n",
       "      <td>Extreme Fear</td>\n",
       "      <td>19623.58008</td>\n",
       "    </tr>\n",
       "    <tr>\n",
       "      <th>3</th>\n",
       "      <td>4.0</td>\n",
       "      <td>2022-10-03</td>\n",
       "      <td>Bitcoin climate impact greater than gold minin...</td>\n",
       "      <td>24</td>\n",
       "      <td>Extreme Fear</td>\n",
       "      <td>19623.58008</td>\n",
       "    </tr>\n",
       "    <tr>\n",
       "      <th>4</th>\n",
       "      <td>5.0</td>\n",
       "      <td>2022-10-03</td>\n",
       "      <td>Bitcoin Is â€˜Comforting' And â€˜Can't Be Stop...</td>\n",
       "      <td>24</td>\n",
       "      <td>Extreme Fear</td>\n",
       "      <td>19623.58008</td>\n",
       "    </tr>\n",
       "  </tbody>\n",
       "</table>\n",
       "</div>"
      ],
      "text/plain": [
       "   item       date                                               text  number  \\\n",
       "0   1.0 2022-10-03  DMG Blockchain Solutions goes live on the Boso...      24   \n",
       "1   2.0 2022-10-03  NYDIG Promotes Leaders Amidst Record Bitcoin B...      24   \n",
       "2   3.0 2022-10-03  Bitcoin Mining as Bad for Planet as Oil Drilli...      24   \n",
       "3   4.0 2022-10-03  Bitcoin climate impact greater than gold minin...      24   \n",
       "4   5.0 2022-10-03  Bitcoin Is â€˜Comforting' And â€˜Can't Be Stop...      24   \n",
       "\n",
       "          class        price  \n",
       "0  Extreme Fear  19623.58008  \n",
       "1  Extreme Fear  19623.58008  \n",
       "2  Extreme Fear  19623.58008  \n",
       "3  Extreme Fear  19623.58008  \n",
       "4  Extreme Fear  19623.58008  "
      ]
     },
     "execution_count": 3,
     "metadata": {},
     "output_type": "execute_result"
    }
   ],
   "source": [
    "data.head()"
   ]
  },
  {
   "cell_type": "code",
   "execution_count": 4,
   "id": "9d11083a-a248-459d-b7cd-47675750f979",
   "metadata": {},
   "outputs": [],
   "source": [
    "#Fill missing values\n",
    "data['text'] = data['text'].astype(str).fillna('')"
   ]
  },
  {
   "cell_type": "code",
   "execution_count": 5,
   "id": "89837c47-3d4a-4285-8c18-dbe4d165af3c",
   "metadata": {},
   "outputs": [],
   "source": [
    "#map the class to numerical value add column sentiment (numerical class) change the number of classes to 3 classes\n",
    "mapping = {     \n",
    "    'Extreme Fear': 0,\n",
    "    'Fear': 0,\n",
    "    'Neutral': 2,\n",
    "    'Greed': 1,\n",
    "    'Extreme Greed': 1\n",
    "}\n",
    "data['label'] = data['class'].map(mapping)"
   ]
  },
  {
   "cell_type": "code",
   "execution_count": 6,
   "id": "39f4dfaf-d7ae-4e08-82e5-7a1a6857b86f",
   "metadata": {},
   "outputs": [],
   "source": [
    "#remove Neutral class\n",
    "data= data[data['label'] != 2]"
   ]
  },
  {
   "cell_type": "code",
   "execution_count": 7,
   "id": "59fa6d02-ba5e-4267-8981-ea3a8b149bf7",
   "metadata": {},
   "outputs": [
    {
     "data": {
      "text/html": [
       "<div>\n",
       "<style scoped>\n",
       "    .dataframe tbody tr th:only-of-type {\n",
       "        vertical-align: middle;\n",
       "    }\n",
       "\n",
       "    .dataframe tbody tr th {\n",
       "        vertical-align: top;\n",
       "    }\n",
       "\n",
       "    .dataframe thead th {\n",
       "        text-align: right;\n",
       "    }\n",
       "</style>\n",
       "<table border=\"1\" class=\"dataframe\">\n",
       "  <thead>\n",
       "    <tr style=\"text-align: right;\">\n",
       "      <th></th>\n",
       "      <th>item</th>\n",
       "      <th>date</th>\n",
       "      <th>text</th>\n",
       "      <th>number</th>\n",
       "      <th>class</th>\n",
       "      <th>price</th>\n",
       "      <th>label</th>\n",
       "    </tr>\n",
       "  </thead>\n",
       "  <tbody>\n",
       "    <tr>\n",
       "      <th>0</th>\n",
       "      <td>1.0</td>\n",
       "      <td>2022-10-03</td>\n",
       "      <td>DMG Blockchain Solutions goes live on the Boso...</td>\n",
       "      <td>24</td>\n",
       "      <td>Extreme Fear</td>\n",
       "      <td>19623.58008</td>\n",
       "      <td>0</td>\n",
       "    </tr>\n",
       "    <tr>\n",
       "      <th>1</th>\n",
       "      <td>2.0</td>\n",
       "      <td>2022-10-03</td>\n",
       "      <td>NYDIG Promotes Leaders Amidst Record Bitcoin B...</td>\n",
       "      <td>24</td>\n",
       "      <td>Extreme Fear</td>\n",
       "      <td>19623.58008</td>\n",
       "      <td>0</td>\n",
       "    </tr>\n",
       "    <tr>\n",
       "      <th>2</th>\n",
       "      <td>3.0</td>\n",
       "      <td>2022-10-03</td>\n",
       "      <td>Bitcoin Mining as Bad for Planet as Oil Drilli...</td>\n",
       "      <td>24</td>\n",
       "      <td>Extreme Fear</td>\n",
       "      <td>19623.58008</td>\n",
       "      <td>0</td>\n",
       "    </tr>\n",
       "    <tr>\n",
       "      <th>3</th>\n",
       "      <td>4.0</td>\n",
       "      <td>2022-10-03</td>\n",
       "      <td>Bitcoin climate impact greater than gold minin...</td>\n",
       "      <td>24</td>\n",
       "      <td>Extreme Fear</td>\n",
       "      <td>19623.58008</td>\n",
       "      <td>0</td>\n",
       "    </tr>\n",
       "    <tr>\n",
       "      <th>4</th>\n",
       "      <td>5.0</td>\n",
       "      <td>2022-10-03</td>\n",
       "      <td>Bitcoin Is â€˜Comforting' And â€˜Can't Be Stop...</td>\n",
       "      <td>24</td>\n",
       "      <td>Extreme Fear</td>\n",
       "      <td>19623.58008</td>\n",
       "      <td>0</td>\n",
       "    </tr>\n",
       "  </tbody>\n",
       "</table>\n",
       "</div>"
      ],
      "text/plain": [
       "   item       date                                               text  number  \\\n",
       "0   1.0 2022-10-03  DMG Blockchain Solutions goes live on the Boso...      24   \n",
       "1   2.0 2022-10-03  NYDIG Promotes Leaders Amidst Record Bitcoin B...      24   \n",
       "2   3.0 2022-10-03  Bitcoin Mining as Bad for Planet as Oil Drilli...      24   \n",
       "3   4.0 2022-10-03  Bitcoin climate impact greater than gold minin...      24   \n",
       "4   5.0 2022-10-03  Bitcoin Is â€˜Comforting' And â€˜Can't Be Stop...      24   \n",
       "\n",
       "          class        price  label  \n",
       "0  Extreme Fear  19623.58008      0  \n",
       "1  Extreme Fear  19623.58008      0  \n",
       "2  Extreme Fear  19623.58008      0  \n",
       "3  Extreme Fear  19623.58008      0  \n",
       "4  Extreme Fear  19623.58008      0  "
      ]
     },
     "execution_count": 7,
     "metadata": {},
     "output_type": "execute_result"
    }
   ],
   "source": [
    "data.head()"
   ]
  },
  {
   "cell_type": "code",
   "execution_count": 8,
   "id": "6ab173b1-8bca-4b60-8175-09e0a602b21a",
   "metadata": {},
   "outputs": [
    {
     "data": {
      "text/plain": [
       "(2360, 7)"
      ]
     },
     "execution_count": 8,
     "metadata": {},
     "output_type": "execute_result"
    }
   ],
   "source": [
    "data.shape"
   ]
  },
  {
   "cell_type": "code",
   "execution_count": 9,
   "id": "208c1fdd-27ca-4a17-a004-c0fb5da0b15f",
   "metadata": {},
   "outputs": [
    {
     "name": "stdout",
     "output_type": "stream",
     "text": [
      "<class 'pandas.core.frame.DataFrame'>\n",
      "Index: 2360 entries, 0 to 2379\n",
      "Data columns (total 7 columns):\n",
      " #   Column  Non-Null Count  Dtype         \n",
      "---  ------  --------------  -----         \n",
      " 0   item    2281 non-null   float64       \n",
      " 1   date    2359 non-null   datetime64[ns]\n",
      " 2   text    2360 non-null   object        \n",
      " 3   number  2360 non-null   int64         \n",
      " 4   class   2360 non-null   object        \n",
      " 5   price   2360 non-null   float64       \n",
      " 6   label   2360 non-null   int64         \n",
      "dtypes: datetime64[ns](1), float64(2), int64(2), object(2)\n",
      "memory usage: 147.5+ KB\n"
     ]
    }
   ],
   "source": [
    "data.info()"
   ]
  },
  {
   "cell_type": "code",
   "execution_count": 10,
   "id": "eddd62f4-c3c2-42d1-aed2-0d28ff15b124",
   "metadata": {},
   "outputs": [
    {
     "data": {
      "text/html": [
       "<div>\n",
       "<style scoped>\n",
       "    .dataframe tbody tr th:only-of-type {\n",
       "        vertical-align: middle;\n",
       "    }\n",
       "\n",
       "    .dataframe tbody tr th {\n",
       "        vertical-align: top;\n",
       "    }\n",
       "\n",
       "    .dataframe thead th {\n",
       "        text-align: right;\n",
       "    }\n",
       "</style>\n",
       "<table border=\"1\" class=\"dataframe\">\n",
       "  <thead>\n",
       "    <tr style=\"text-align: right;\">\n",
       "      <th></th>\n",
       "      <th>item</th>\n",
       "      <th>date</th>\n",
       "      <th>number</th>\n",
       "      <th>price</th>\n",
       "      <th>label</th>\n",
       "    </tr>\n",
       "  </thead>\n",
       "  <tbody>\n",
       "    <tr>\n",
       "      <th>count</th>\n",
       "      <td>2281.000000</td>\n",
       "      <td>2359</td>\n",
       "      <td>2360.000000</td>\n",
       "      <td>2360.000000</td>\n",
       "      <td>2360.000000</td>\n",
       "    </tr>\n",
       "    <tr>\n",
       "      <th>mean</th>\n",
       "      <td>1142.360807</td>\n",
       "      <td>2022-04-28 13:29:25.663416576</td>\n",
       "      <td>34.555508</td>\n",
       "      <td>27379.297608</td>\n",
       "      <td>0.207627</td>\n",
       "    </tr>\n",
       "    <tr>\n",
       "      <th>min</th>\n",
       "      <td>1.000000</td>\n",
       "      <td>2021-01-01 00:00:00</td>\n",
       "      <td>10.000000</td>\n",
       "      <td>19416.568360</td>\n",
       "      <td>0.000000</td>\n",
       "    </tr>\n",
       "    <tr>\n",
       "      <th>25%</th>\n",
       "      <td>571.000000</td>\n",
       "      <td>2021-06-01 12:00:00</td>\n",
       "      <td>23.000000</td>\n",
       "      <td>19623.580080</td>\n",
       "      <td>0.000000</td>\n",
       "    </tr>\n",
       "    <tr>\n",
       "      <th>50%</th>\n",
       "      <td>1141.000000</td>\n",
       "      <td>2022-10-04 00:00:00</td>\n",
       "      <td>24.000000</td>\n",
       "      <td>20160.716800</td>\n",
       "      <td>0.000000</td>\n",
       "    </tr>\n",
       "    <tr>\n",
       "      <th>75%</th>\n",
       "      <td>1711.000000</td>\n",
       "      <td>2022-10-06 00:00:00</td>\n",
       "      <td>26.000000</td>\n",
       "      <td>34616.066410</td>\n",
       "      <td>0.000000</td>\n",
       "    </tr>\n",
       "    <tr>\n",
       "      <th>max</th>\n",
       "      <td>2301.000000</td>\n",
       "      <td>2022-10-09 00:00:00</td>\n",
       "      <td>95.000000</td>\n",
       "      <td>63503.457030</td>\n",
       "      <td>1.000000</td>\n",
       "    </tr>\n",
       "    <tr>\n",
       "      <th>std</th>\n",
       "      <td>660.803311</td>\n",
       "      <td>NaN</td>\n",
       "      <td>22.612206</td>\n",
       "      <td>12986.845693</td>\n",
       "      <td>0.405694</td>\n",
       "    </tr>\n",
       "  </tbody>\n",
       "</table>\n",
       "</div>"
      ],
      "text/plain": [
       "              item                           date       number         price  \\\n",
       "count  2281.000000                           2359  2360.000000   2360.000000   \n",
       "mean   1142.360807  2022-04-28 13:29:25.663416576    34.555508  27379.297608   \n",
       "min       1.000000            2021-01-01 00:00:00    10.000000  19416.568360   \n",
       "25%     571.000000            2021-06-01 12:00:00    23.000000  19623.580080   \n",
       "50%    1141.000000            2022-10-04 00:00:00    24.000000  20160.716800   \n",
       "75%    1711.000000            2022-10-06 00:00:00    26.000000  34616.066410   \n",
       "max    2301.000000            2022-10-09 00:00:00    95.000000  63503.457030   \n",
       "std     660.803311                            NaN    22.612206  12986.845693   \n",
       "\n",
       "             label  \n",
       "count  2360.000000  \n",
       "mean      0.207627  \n",
       "min       0.000000  \n",
       "25%       0.000000  \n",
       "50%       0.000000  \n",
       "75%       0.000000  \n",
       "max       1.000000  \n",
       "std       0.405694  "
      ]
     },
     "execution_count": 10,
     "metadata": {},
     "output_type": "execute_result"
    }
   ],
   "source": [
    "data.describe()"
   ]
  },
  {
   "cell_type": "code",
   "execution_count": 11,
   "id": "cc083711-b480-4429-88a2-ea7390c96208",
   "metadata": {},
   "outputs": [
    {
     "data": {
      "text/plain": [
       "label\n",
       "0    1870\n",
       "1     490\n",
       "Name: count, dtype: int64"
      ]
     },
     "execution_count": 11,
     "metadata": {},
     "output_type": "execute_result"
    }
   ],
   "source": [
    "data['label'].value_counts()"
   ]
  },
  {
   "cell_type": "code",
   "execution_count": 12,
   "id": "75809b08-a7e3-4dcd-960f-ed594ac3e3e3",
   "metadata": {},
   "outputs": [
    {
     "data": {
      "text/plain": [
       "<Figure size 800x600 with 0 Axes>"
      ]
     },
     "metadata": {},
     "output_type": "display_data"
    },
    {
     "data": {
      "image/png": "[encoded data removed]",
      "text/plain": [
       "<Figure size 800x600 with 1 Axes>"
      ]
     },
     "metadata": {},
     "output_type": "display_data"
    }
   ],
   "source": [
    "import matplotlib.pyplot as plt\n",
    "plt.figure(figsize=(8, 6))\n",
    "#colors = ['#fc8d62','#66c2a5']\n",
    "# Mapping labels to categories\n",
    "\n",
    "\n",
    "plt.figure(figsize=(8, 6))\n",
    "data['label'].value_counts().plot(kind='bar', color=['#66c2a5'])\n",
    "\n",
    "label_mapping = {0: 'Fear', 1: 'Greed'}\n",
    "data['label'] = data['label'].map(label_mapping)\n",
    "plt.title('Distribution of Labels')\n",
    "plt.xlabel('Label')\n",
    "plt.ylabel('Frequency')\n",
    "plt.xticks(rotation=0)\n",
    "\n",
    "\n",
    "# Saving the plot as a PNG file\n",
    "plt.savefig('label_distribution.png')\n",
    "plt.show()"
   ]
  },
  {
   "cell_type": "code",
   "execution_count": 13,
   "id": "7469ed8c-4231-473b-9096-81d59acc3c64",
   "metadata": {},
   "outputs": [],
   "source": [
    "label_mapping = {'Fear':0, 'Greed':1}\n",
    "data['label'] = data['label'].map(label_mapping)"
   ]
  },
  {
   "cell_type": "code",
   "execution_count": 14,
   "id": "49281f2d-2ebd-4459-89a3-a32bc46c00b3",
   "metadata": {},
   "outputs": [],
   "source": [
    "data.drop_duplicates(inplace = True)"
   ]
  },
  {
   "cell_type": "code",
   "execution_count": 15,
   "id": "228300fe-0cde-4b90-8f78-d5cc40b750c4",
   "metadata": {},
   "outputs": [
    {
     "data": {
      "text/plain": [
       "(2360, 7)"
      ]
     },
     "execution_count": 15,
     "metadata": {},
     "output_type": "execute_result"
    }
   ],
   "source": [
    "data.shape"
   ]
  },
  {
   "cell_type": "code",
   "execution_count": 16,
   "id": "002c733f-e17e-4f9c-bc69-511a0bd2a24b",
   "metadata": {},
   "outputs": [],
   "source": [
    "stop = stopwords.words('english')\n",
    "wl = WordNetLemmatizer()"
   ]
  },
  {
   "cell_type": "code",
   "execution_count": 17,
   "id": "009b4651-80d8-42c0-b53d-24c091622dbd",
   "metadata": {},
   "outputs": [],
   "source": [
    "mapping = {\"ain't\": \"is not\", \"aren't\": \"are not\",\"can't\": \"cannot\", \n",
    "           \"'cause\": \"because\", \"could've\": \"could have\", \"couldn't\": \"could not\", \n",
    "           \"didn't\": \"did not\",  \"doesn't\": \"does not\", \"don't\": \"do not\", \"hadn't\": \"had not\", \n",
    "           \"hasn't\": \"has not\", \"haven't\": \"have not\", \"he'd\": \"he would\",\"he'll\": \"he will\", \n",
    "           \"he's\": \"he is\", \"how'd\": \"how did\", \"how'd'y\": \"how do you\", \"how'll\": \"how will\", \n",
    "           \"how's\": \"how is\",  \"I'd\": \"I would\", \"I'd've\": \"I would have\", \"I'll\": \"I will\", \n",
    "           \"I'll've\": \"I will have\",\"I'm\": \"I am\", \"I've\": \"I have\", \"i'd\": \"i would\", \n",
    "           \"i'd've\": \"i would have\", \"i'll\": \"i will\",  \"i'll've\": \"i will have\",\n",
    "           \"i'm\": \"i am\", \"i've\": \"i have\", \"isn't\": \"is not\", \"it'd\": \"it would\", \n",
    "           \"it'd've\": \"it would have\", \"it'll\": \"it will\", \"it'll've\": \"it will have\",\n",
    "           \"it's\": \"it is\", \"let's\": \"let us\", \"ma'am\": \"madam\", \"mayn't\": \"may not\", \n",
    "           \"might've\": \"might have\",\"mightn't\": \"might not\",\"mightn't've\": \"might not have\", \n",
    "           \"must've\": \"must have\", \"mustn't\": \"must not\", \"mustn't've\": \"must not have\", \n",
    "           \"needn't\": \"need not\", \"needn't've\": \"need not have\",\"o'clock\": \"of the clock\", \n",
    "           \"oughtn't\": \"ought not\", \"oughtn't've\": \"ought not have\", \"shan't\": \"shall not\", \n",
    "           \"sha'n't\": \"shall not\", \"shan't've\": \"shall not have\", \"she'd\": \"she would\", \n",
    "           \"she'd've\": \"she would have\", \"she'll\": \"she will\", \"she'll've\": \"she will have\", \n",
    "           \"she's\": \"she is\", \"should've\": \"should have\", \"shouldn't\": \"should not\", \n",
    "           \"shouldn't've\": \"should not have\", \"so've\": \"so have\",\"so's\": \"so as\", \"this's\": \"this is\",\n",
    "           \"that'd\": \"that would\", \"that'd've\": \"that would have\", \"that's\": \"that is\", \n",
    "           \"there'd\": \"there would\", \"there'd've\": \"there would have\", \"there's\": \"there is\", \n",
    "           \"here's\": \"here is\",\"they'd\": \"they would\", \"they'd've\": \"they would have\", \n",
    "           \"they'll\": \"they will\", \"they'll've\": \"they will have\", \"they're\": \"they are\", \n",
    "           \"they've\": \"they have\", \"to've\": \"to have\", \"wasn't\": \"was not\", \"we'd\": \"we would\", \n",
    "           \"we'd've\": \"we would have\", \"we'll\": \"we will\", \"we'll've\": \"we will have\", \n",
    "           \"we're\": \"we are\", \"we've\": \"we have\", \"weren't\": \"were not\", \n",
    "           \"what'll\": \"what will\", \"what'll've\": \"what will have\",\"what're\": \"what are\",  \n",
    "           \"what's\": \"what is\", \"what've\": \"what have\", \"when's\": \"when is\", \"when've\": \"when have\", \n",
    "           \"where'd\": \"where did\", \"where's\": \"where is\", \"where've\": \"where have\", \"who'll\": \"who will\", \n",
    "           \"who'll've\": \"who will have\", \"who's\": \"who is\", \"who've\": \"who have\", \"why's\": \"why is\", \n",
    "           \"why've\": \"why have\", \"will've\": \"will have\", \"won't\": \"will not\", \"won't've\": \"will not have\", \n",
    "           \"would've\": \"would have\", \"wouldn't\": \"would not\", \"wouldn't've\": \"would not have\", \n",
    "           \"y'all\": \"you all\", \"y'all'd\": \"you all would\",\"y'all'd've\": \"you all would have\",\n",
    "           \"y'all're\": \"you all are\",\"y'all've\": \"you all have\",\"you'd\": \"you would\", \n",
    "           \"you'd've\": \"you would have\", \"you'll\": \"you will\", \"you'll've\": \"you will have\", \n",
    "           \"you're\": \"you are\", \"you've\": \"you have\" }"
   ]
  },
  {
   "cell_type": "code",
   "execution_count": 18,
   "id": "3b4877b3-a966-4bfd-ab07-5d1b095a2ac5",
   "metadata": {},
   "outputs": [
    {
     "name": "stderr",
     "output_type": "stream",
     "text": [
      "[nltk_data] Downloading package wordnet to /home/bitta693/nltk_data...\n",
      "[nltk_data]   Package wordnet is already up-to-date!\n"
     ]
    }
   ],
   "source": [
    "\n",
    "import nltk\n",
    "nltk.download('wordnet')\n",
    "def clean_text(text,lemmatize = True):\n",
    "    soup = BeautifulSoup(text, \"html.parser\") #remove html tags\n",
    "    text = soup.get_text()\n",
    "    text = ' '.join([mapping[t] if t in mapping else t for t in text.split(\" \")]) #expanding chatwords and contracts clearing contractions\n",
    "    emoji_clean= re.compile(\"[\"\n",
    "                           u\"\\U0001F600-\\U0001F64F\"  # emoticons\n",
    "                           u\"\\U0001F300-\\U0001F5FF\"  # symbols & pictographs\n",
    "                           u\"\\U0001F680-\\U0001F6FF\"  # transport & map symbols\n",
    "                           u\"\\U0001F1E0-\\U0001F1FF\"  # flags (iOS)\n",
    "                           u\"\\U00002702-\\U000027B0\"\n",
    "                           u\"\\U000024C2-\\U0001F251\"\n",
    "                           \"]+\", flags=re.UNICODE)\n",
    "    text = emoji_clean.sub(r'',text)\n",
    "    text = re.sub(r'\\.(?=\\S)', '. ',text) #add space after full stop\n",
    "    text = re.sub(r'http\\S+', '', text) #remove urls\n",
    "    text = \"\".join([word.lower() for word in text if word not in string.punctuation]) #remove punctuation\n",
    "    #tokens = re.split('\\W+', text) #create tokens\n",
    "    if lemmatize:\n",
    "        text = \" \".join([wl.lemmatize(word) for word in text.split() if word not in stop and word.isalpha()]) #lemmatize\n",
    "    else:\n",
    "        text = \" \".join([word for word in text.split() if word not in stop and word.isalpha()]) \n",
    "    return text"
   ]
  },
  {
   "cell_type": "code",
   "execution_count": 19,
   "id": "b86b9f53-c945-4c16-a6c3-be9fd7733198",
   "metadata": {},
   "outputs": [
    {
     "name": "stderr",
     "output_type": "stream",
     "text": [
      "/tmp/ipykernel_147575/3037743114.py:4: MarkupResemblesLocatorWarning: The input looks more like a filename than markup. You may want to open this file and pass the filehandle into Beautiful Soup.\n",
      "  soup = BeautifulSoup(text, \"html.parser\") #remove html tags\n"
     ]
    }
   ],
   "source": [
    "data['text']=data['text'].apply(clean_text,lemmatize = True)"
   ]
  },
  {
   "cell_type": "code",
   "execution_count": 20,
   "id": "756a2d6e-bb35-4176-84c5-d9097c4f5ac1",
   "metadata": {},
   "outputs": [
    {
     "name": "stdout",
     "output_type": "stream",
     "text": [
      "(1888,) (1888,)\n",
      "(472,) (472,)\n"
     ]
    }
   ],
   "source": [
    "#splitting into train and test\n",
    "train, test= train_test_split(data, test_size=0.2, random_state=42)\n",
    "\n",
    "#train dataset\n",
    "Xtrain, ytrain = train['text'], train['label']\n",
    "\n",
    "#test dataset\n",
    "Xtest, ytest = test['text'], test['label']\n",
    "\n",
    "print(Xtrain.shape,ytrain.shape)\n",
    "print(Xtest.shape,ytest.shape)"
   ]
  },
  {
   "cell_type": "code",
   "execution_count": 21,
   "id": "11dfa7c5-10b4-40d5-b119-eb0e4e31c2da",
   "metadata": {},
   "outputs": [
    {
     "name": "stdout",
     "output_type": "stream",
     "text": [
      "Class weights: [0.62891406 2.43927649]\n"
     ]
    }
   ],
   "source": [
    "import numpy as np\n",
    "from sklearn.utils import class_weight\n",
    "classes = np.unique(ytrain)\n",
    "class_weights = class_weight.compute_class_weight(\n",
    "    'balanced',\n",
    "    classes=classes,\n",
    "    y=ytrain\n",
    ")\n",
    "class_weights_dict = dict(zip(classes, class_weights))\n",
    "print(\"Class weights:\", class_weights)"
   ]
  },
  {
   "cell_type": "code",
   "execution_count": 22,
   "id": "46858f47-7b87-4c53-a6f3-40db03f0a6d6",
   "metadata": {},
   "outputs": [
    {
     "name": "stdout",
     "output_type": "stream",
     "text": [
      "Accuracy: 0.8728813559322034\n",
      "Classification Report:\n",
      "              precision    recall  f1-score   support\n",
      "\n",
      "           0       0.90      0.94      0.92       369\n",
      "           1       0.75      0.63      0.68       103\n",
      "\n",
      "    accuracy                           0.87       472\n",
      "   macro avg       0.82      0.79      0.80       472\n",
      "weighted avg       0.87      0.87      0.87       472\n",
      "\n"
     ]
    }
   ],
   "source": [
    "\n",
    "\n",
    "pipe = Pipeline([\n",
    "    ('vectorizer', CountVectorizer()),\n",
    "    ('classifier', LogisticRegression(solver='liblinear', class_weight=class_weights_dict))\n",
    "])\n",
    "\n",
    "# Train the model\n",
    "pipe.fit(Xtrain, ytrain)\n",
    "\n",
    "# Test the model\n",
    "predictions = pipe.predict(Xtest)\n",
    "\n",
    "# Evaluate the model\n",
    "print(\"Accuracy:\", accuracy_score(ytest, predictions))\n",
    "print(\"Classification Report:\")\n",
    "print(classification_report(ytest, predictions))"
   ]
  },
  {
   "cell_type": "code",
   "execution_count": 23,
   "id": "e96a9c9b-407f-4da7-9606-7e4774e9579d",
   "metadata": {},
   "outputs": [
    {
     "name": "stdout",
     "output_type": "stream",
     "text": [
      "Confusion Matrix:\n",
      "[[347  22]\n",
      " [ 38  65]]\n"
     ]
    },
    {
     "data": {
      "image/png": "[encoded data removed]",
      "text/plain": [
       "<Figure size 800x600 with 2 Axes>"
      ]
     },
     "metadata": {},
     "output_type": "display_data"
    }
   ],
   "source": [
    "\n",
    "# Confusion Matrix\n",
    "cm = confusion_matrix(ytest, predictions)\n",
    "\n",
    "\n",
    "print(\"Confusion Matrix:\")\n",
    "print(cm)\n",
    "\n",
    "# Plot Confusion Matrix\n",
    "plt.figure(figsize=(8, 6))\n",
    "class_names = ['Fear', 'Greed']\n",
    "sns.heatmap(cm, annot=True, fmt='d', cmap='Blues', xticklabels=class_names, yticklabels=class_names)\n",
    "plt.xlabel('Predicted')\n",
    "plt.ylabel('True')\n",
    "plt.title('Confusion Matrix')\n",
    "plt.savefig('logismatrix.png')\n",
    "plt.show()"
   ]
  },
  {
   "cell_type": "code",
   "execution_count": 24,
   "id": "1814089c-5409-4ca7-9d50-880a30556546",
   "metadata": {},
   "outputs": [],
   "source": [
    "vect = TfidfVectorizer()\n",
    "Xtrain_vect= vect.fit_transform(Xtrain)\n",
    "Xtest_vect = vect.transform(Xtest)\n",
    "\n",
    "\n",
    "count_vect = CountVectorizer() \n",
    "Xtrain_count = count_vect.fit_transform(Xtrain)\n",
    "Xtest_count = count_vect.transform(Xtest)"
   ]
  },
  {
   "cell_type": "code",
   "execution_count": 25,
   "id": "4d86ab0b-e05e-46df-abee-1825502cc71a",
   "metadata": {},
   "outputs": [
    {
     "name": "stdout",
     "output_type": "stream",
     "text": [
      "Vocabulary of the dataset is :  4249\n"
     ]
    }
   ],
   "source": [
    "MAX_VOCAB_SIZE = 10000\n",
    "tokenizer = Tokenizer(num_words = MAX_VOCAB_SIZE,oov_token=\"<oov>\")\n",
    "tokenizer.fit_on_texts(Xtrain)\n",
    "word_index = tokenizer.word_index\n",
    "#print(word_index)\n",
    "V = len(word_index)\n",
    "print(\"Vocabulary of the dataset is : \",V)"
   ]
  },
  {
   "cell_type": "code",
   "execution_count": 26,
   "id": "7fffffcf-956d-4bd0-ab56-a23d4eadcd50",
   "metadata": {},
   "outputs": [],
   "source": [
    "##create sequences of reviews\n",
    "seq_train = tokenizer.texts_to_sequences(Xtrain)\n",
    "seq_test =  tokenizer.texts_to_sequences(Xtest)"
   ]
  },
  {
   "cell_type": "code",
   "execution_count": 27,
   "id": "279a3d0b-e5c2-4284-a58e-910a5b7e6ca7",
   "metadata": {},
   "outputs": [
    {
     "name": "stdout",
     "output_type": "stream",
     "text": [
      "Maximum length of sequence in the list: 25\n"
     ]
    }
   ],
   "source": [
    "#choice of maximum length of sequences\n",
    "seq_len_list = [len(i) for i in seq_train + seq_test]\n",
    "\n",
    "#if we take the direct maximum then\n",
    "max_len=max(seq_len_list)\n",
    "print('Maximum length of sequence in the list: {}'.format(max_len))"
   ]
  },
  {
   "cell_type": "code",
   "execution_count": 28,
   "id": "b4e36a67-2aa4-4f40-be47-7c9716a1f494",
   "metadata": {},
   "outputs": [
    {
     "name": "stdout",
     "output_type": "stream",
     "text": [
      "Maximum length of the sequence when considering data only two standard deviations from average: 16\n"
     ]
    }
   ],
   "source": [
    "# when setting the maximum length of sequence, variability around the average is used.\n",
    "max_seq_len = np.mean(seq_len_list) + 2 * np.std(seq_len_list)\n",
    "max_seq_len = int(max_seq_len)\n",
    "print('Maximum length of the sequence when considering data only two standard deviations from average: {}'.format(max_seq_len))"
   ]
  },
  {
   "cell_type": "code",
   "execution_count": 29,
   "id": "597513f9-4d0f-4d02-9364-c177dd632f86",
   "metadata": {},
   "outputs": [
    {
     "name": "stdout",
     "output_type": "stream",
     "text": [
      "The above calculated number coveres approximately 92.33 % of data\n"
     ]
    }
   ],
   "source": [
    "perc_covered = np.sum(np.array(seq_len_list) < max_seq_len) / len(seq_len_list)*100\n",
    "print('The above calculated number coveres approximately {} % of data'.format(np.round(perc_covered,2)))"
   ]
  },
  {
   "cell_type": "code",
   "execution_count": 30,
   "id": "fc626abe-fdf2-467c-9d9c-61d0bd584d1a",
   "metadata": {},
   "outputs": [],
   "source": [
    "#create padded sequences\n",
    "pad_train=pad_sequences(seq_train,truncating = 'post', padding = 'pre',maxlen=max_seq_len)\n",
    "pad_test=pad_sequences(seq_test,truncating = 'post', padding = 'pre',maxlen=max_seq_len)"
   ]
  },
  {
   "cell_type": "code",
   "execution_count": 31,
   "id": "45e5a77a-0815-4dc8-9e38-c340a4886ec5",
   "metadata": {},
   "outputs": [],
   "source": [
    "def plotLearningCurve(history,epochs,name):\n",
    "    \n",
    "    epochRange = range(1,epochs+1)\n",
    "    fig , ax = plt.subplots(1,2,figsize = (10,5))\n",
    "  \n",
    "    ax[0].plot(epochRange,history.history['accuracy'],label = 'Training Accuracy')\n",
    "    ax[0].plot(epochRange,history.history['val_accuracy'],label = 'Validation Accuracy')\n",
    "    ax[0].set_title('Training and Validation accuracy')\n",
    "    ax[0].set_xlabel('Epoch')\n",
    "    ax[0].set_ylabel('Accuracy')\n",
    "    ax[0].legend()\n",
    "    ax[1].plot(epochRange,history.history['loss'],label = 'Training Loss')\n",
    "    ax[1].plot(epochRange,history.history['val_loss'],label = 'Validation Loss')\n",
    "    ax[1].set_title('Training and Validation loss')\n",
    "    ax[1].set_xlabel('Epoch')\n",
    "    ax[1].set_ylabel('Loss')\n",
    "    ax[1].legend()\n",
    "    fig.tight_layout()\n",
    "    plt.savefig(name)\n",
    "    plt.show()"
   ]
  },
  {
   "cell_type": "code",
   "execution_count": 32,
   "id": "3a584b61-2ec1-4878-a261-e399770ab743",
   "metadata": {},
   "outputs": [],
   "source": [
    "#Splitting training set for validation purposes\n",
    "Xtrain,Xval,ytrain,yval=train_test_split(pad_train,ytrain,\n",
    "                                             test_size=0.2,random_state=10)"
   ]
  },
  {
   "cell_type": "code",
   "execution_count": 33,
   "id": "933b8dc4-3f3b-4d11-8162-8b3e7311d00a",
   "metadata": {},
   "outputs": [],
   "source": [
    "from tensorflow.keras.layers import Input, Embedding, BatchNormalization, Dropout, Conv1D, MaxPooling1D, Bidirectional, LSTM, Dense\n",
    "from tensorflow.keras.models import Model\n",
    "from tensorflow.keras.optimizers import Adam\n",
    "from sklearn.utils.class_weight import compute_class_weight\n",
    "import numpy as np\n",
    "\n",
    "def lstm_model(Xtrain, Xval, ytrain, yval, V, D, maxlen, epochs):\n",
    "    print(\"----Building the model----\")\n",
    "    i = Input(shape=(maxlen,))\n",
    "    x = Embedding(V + 1, D)(i)\n",
    "    x = BatchNormalization()(x)\n",
    "    x = Dropout(0.3)(x)\n",
    "    x = Conv1D(32, 5, activation='relu')(x)\n",
    "    x = Dropout(0.3)(x)\n",
    "    x = MaxPooling1D(2)(x)\n",
    "    x = Bidirectional(LSTM(128, return_sequences=True))(x)\n",
    "    x = LSTM(64)(x)\n",
    "    x = Dropout(0.5)(x)\n",
    "    x = Dense(1, activation='sigmoid')(x)\n",
    "    model = Model(i, x)\n",
    "    model.summary()\n",
    "\n",
    "\n",
    "    ytrain = np.array(ytrain).reshape(-1, 1)\n",
    "    yval = np.array(yval).reshape(-1, 1)\n",
    "    \n",
    "\n",
    "    classes, counts = np.unique(ytrain, return_counts=True)\n",
    "    print(f\"Classes: {classes}\")\n",
    "    print(f\"Counts: {counts}\")\n",
    "    \n",
    "\n",
    "    class_weights = compute_class_weight(class_weight='balanced', classes=classes, y=ytrain.ravel())\n",
    "    class_weights = dict(zip(classes, class_weights))\n",
    "    print(f\"Class weights: {class_weights}\")\n",
    "\n",
    "\n",
    "    print(\"----Training the network----\")\n",
    "    model.compile(optimizer=Adam(0.000007),\n",
    "                  loss='binary_crossentropy',\n",
    "                  metrics=['accuracy'])\n",
    "\n",
    "    r = model.fit(Xtrain, ytrain, \n",
    "                  validation_data=(Xval, yval), \n",
    "                  epochs=epochs, \n",
    "                  verbose=2,\n",
    "                  batch_size=32,\n",
    "                  class_weight=class_weights)\n",
    "            \n",
    "                  \n",
    "\n",
    "    train_score = model.evaluate(Xtrain, ytrain, verbose=0)\n",
    "    val_score = model.evaluate(Xval, yval, verbose=0)\n",
    "    \n",
    "    print(f\"Train score: {train_score}\")\n",
    "    print(f\"Validation score: {val_score}\")\n",
    "    \n",
    "    n_epochs = len(r.history['loss'])\n",
    "    \n",
    "    return r, model, n_epochs\n"
   ]
  },
  {
   "cell_type": "code",
   "execution_count": 34,
   "id": "4103f0ce-e655-428e-92aa-bdca2e58fa81",
   "metadata": {},
   "outputs": [
    {
     "name": "stdout",
     "output_type": "stream",
     "text": [
      "----Building the model----\n"
     ]
    },
    {
     "name": "stderr",
     "output_type": "stream",
     "text": [
      "2024-06-09 07:34:39.962309: E external/local_xla/xla/stream_executor/cuda/cuda_driver.cc:282] failed call to cuInit: CUDA_ERROR_NO_DEVICE: no CUDA-capable device is detected\n"
     ]
    },
    {
     "data": {
      "text/html": [
       "<pre style=\"white-space:pre;overflow-x:auto;line-height:normal;font-family:Menlo,'DejaVu Sans Mono',consolas,'Courier New',monospace\"><span style=\"font-weight: bold\">Model: \"functional_1\"</span>\n",
       "</pre>\n"
      ],
      "text/plain": [
       "\u001b[1mModel: \"functional_1\"\u001b[0m\n"
      ]
     },
     "metadata": {},
     "output_type": "display_data"
    },
    {
     "data": {
      "text/html": [
       "<pre style=\"white-space:pre;overflow-x:auto;line-height:normal;font-family:Menlo,'DejaVu Sans Mono',consolas,'Courier New',monospace\">┏━━━━━━━━━━━━━━━━━━━━━━━━━━━━━━━━━┳━━━━━━━━━━━━━━━━━━━━━━━━┳━━━━━━━━━━━━━━━┓\n",
       "┃<span style=\"font-weight: bold\"> Layer (type)                    </span>┃<span style=\"font-weight: bold\"> Output Shape           </span>┃<span style=\"font-weight: bold\">       Param # </span>┃\n",
       "┡━━━━━━━━━━━━━━━━━━━━━━━━━━━━━━━━━╇━━━━━━━━━━━━━━━━━━━━━━━━╇━━━━━━━━━━━━━━━┩\n",
       "│ input_layer (<span style=\"color: #0087ff; text-decoration-color: #0087ff\">InputLayer</span>)        │ (<span style=\"color: #00d7ff; text-decoration-color: #00d7ff\">None</span>, <span style=\"color: #00af00; text-decoration-color: #00af00\">16</span>)             │             <span style=\"color: #00af00; text-decoration-color: #00af00\">0</span> │\n",
       "├─────────────────────────────────┼────────────────────────┼───────────────┤\n",
       "│ embedding (<span style=\"color: #0087ff; text-decoration-color: #0087ff\">Embedding</span>)           │ (<span style=\"color: #00d7ff; text-decoration-color: #00d7ff\">None</span>, <span style=\"color: #00af00; text-decoration-color: #00af00\">16</span>, <span style=\"color: #00af00; text-decoration-color: #00af00\">64</span>)         │       <span style=\"color: #00af00; text-decoration-color: #00af00\">272,000</span> │\n",
       "├─────────────────────────────────┼────────────────────────┼───────────────┤\n",
       "│ batch_normalization             │ (<span style=\"color: #00d7ff; text-decoration-color: #00d7ff\">None</span>, <span style=\"color: #00af00; text-decoration-color: #00af00\">16</span>, <span style=\"color: #00af00; text-decoration-color: #00af00\">64</span>)         │           <span style=\"color: #00af00; text-decoration-color: #00af00\">256</span> │\n",
       "│ (<span style=\"color: #0087ff; text-decoration-color: #0087ff\">BatchNormalization</span>)            │                        │               │\n",
       "├─────────────────────────────────┼────────────────────────┼───────────────┤\n",
       "│ dropout (<span style=\"color: #0087ff; text-decoration-color: #0087ff\">Dropout</span>)               │ (<span style=\"color: #00d7ff; text-decoration-color: #00d7ff\">None</span>, <span style=\"color: #00af00; text-decoration-color: #00af00\">16</span>, <span style=\"color: #00af00; text-decoration-color: #00af00\">64</span>)         │             <span style=\"color: #00af00; text-decoration-color: #00af00\">0</span> │\n",
       "├─────────────────────────────────┼────────────────────────┼───────────────┤\n",
       "│ conv1d (<span style=\"color: #0087ff; text-decoration-color: #0087ff\">Conv1D</span>)                 │ (<span style=\"color: #00d7ff; text-decoration-color: #00d7ff\">None</span>, <span style=\"color: #00af00; text-decoration-color: #00af00\">12</span>, <span style=\"color: #00af00; text-decoration-color: #00af00\">32</span>)         │        <span style=\"color: #00af00; text-decoration-color: #00af00\">10,272</span> │\n",
       "├─────────────────────────────────┼────────────────────────┼───────────────┤\n",
       "│ dropout_1 (<span style=\"color: #0087ff; text-decoration-color: #0087ff\">Dropout</span>)             │ (<span style=\"color: #00d7ff; text-decoration-color: #00d7ff\">None</span>, <span style=\"color: #00af00; text-decoration-color: #00af00\">12</span>, <span style=\"color: #00af00; text-decoration-color: #00af00\">32</span>)         │             <span style=\"color: #00af00; text-decoration-color: #00af00\">0</span> │\n",
       "├─────────────────────────────────┼────────────────────────┼───────────────┤\n",
       "│ max_pooling1d (<span style=\"color: #0087ff; text-decoration-color: #0087ff\">MaxPooling1D</span>)    │ (<span style=\"color: #00d7ff; text-decoration-color: #00d7ff\">None</span>, <span style=\"color: #00af00; text-decoration-color: #00af00\">6</span>, <span style=\"color: #00af00; text-decoration-color: #00af00\">32</span>)          │             <span style=\"color: #00af00; text-decoration-color: #00af00\">0</span> │\n",
       "├─────────────────────────────────┼────────────────────────┼───────────────┤\n",
       "│ bidirectional (<span style=\"color: #0087ff; text-decoration-color: #0087ff\">Bidirectional</span>)   │ (<span style=\"color: #00d7ff; text-decoration-color: #00d7ff\">None</span>, <span style=\"color: #00af00; text-decoration-color: #00af00\">6</span>, <span style=\"color: #00af00; text-decoration-color: #00af00\">256</span>)         │       <span style=\"color: #00af00; text-decoration-color: #00af00\">164,864</span> │\n",
       "├─────────────────────────────────┼────────────────────────┼───────────────┤\n",
       "│ lstm_1 (<span style=\"color: #0087ff; text-decoration-color: #0087ff\">LSTM</span>)                   │ (<span style=\"color: #00d7ff; text-decoration-color: #00d7ff\">None</span>, <span style=\"color: #00af00; text-decoration-color: #00af00\">64</span>)             │        <span style=\"color: #00af00; text-decoration-color: #00af00\">82,176</span> │\n",
       "├─────────────────────────────────┼────────────────────────┼───────────────┤\n",
       "│ dropout_2 (<span style=\"color: #0087ff; text-decoration-color: #0087ff\">Dropout</span>)             │ (<span style=\"color: #00d7ff; text-decoration-color: #00d7ff\">None</span>, <span style=\"color: #00af00; text-decoration-color: #00af00\">64</span>)             │             <span style=\"color: #00af00; text-decoration-color: #00af00\">0</span> │\n",
       "├─────────────────────────────────┼────────────────────────┼───────────────┤\n",
       "│ dense (<span style=\"color: #0087ff; text-decoration-color: #0087ff\">Dense</span>)                   │ (<span style=\"color: #00d7ff; text-decoration-color: #00d7ff\">None</span>, <span style=\"color: #00af00; text-decoration-color: #00af00\">1</span>)              │            <span style=\"color: #00af00; text-decoration-color: #00af00\">65</span> │\n",
       "└─────────────────────────────────┴────────────────────────┴───────────────┘\n",
       "</pre>\n"
      ],
      "text/plain": [
       "┏━━━━━━━━━━━━━━━━━━━━━━━━━━━━━━━━━┳━━━━━━━━━━━━━━━━━━━━━━━━┳━━━━━━━━━━━━━━━┓\n",
       "┃\u001b[1m \u001b[0m\u001b[1mLayer (type)                   \u001b[0m\u001b[1m \u001b[0m┃\u001b[1m \u001b[0m\u001b[1mOutput Shape          \u001b[0m\u001b[1m \u001b[0m┃\u001b[1m \u001b[0m\u001b[1m      Param #\u001b[0m\u001b[1m \u001b[0m┃\n",
       "┡━━━━━━━━━━━━━━━━━━━━━━━━━━━━━━━━━╇━━━━━━━━━━━━━━━━━━━━━━━━╇━━━━━━━━━━━━━━━┩\n",
       "│ input_layer (\u001b[38;5;33mInputLayer\u001b[0m)        │ (\u001b[38;5;45mNone\u001b[0m, \u001b[38;5;34m16\u001b[0m)             │             \u001b[38;5;34m0\u001b[0m │\n",
       "├─────────────────────────────────┼────────────────────────┼───────────────┤\n",
       "│ embedding (\u001b[38;5;33mEmbedding\u001b[0m)           │ (\u001b[38;5;45mNone\u001b[0m, \u001b[38;5;34m16\u001b[0m, \u001b[38;5;34m64\u001b[0m)         │       \u001b[38;5;34m272,000\u001b[0m │\n",
       "├─────────────────────────────────┼────────────────────────┼───────────────┤\n",
       "│ batch_normalization             │ (\u001b[38;5;45mNone\u001b[0m, \u001b[38;5;34m16\u001b[0m, \u001b[38;5;34m64\u001b[0m)         │           \u001b[38;5;34m256\u001b[0m │\n",
       "│ (\u001b[38;5;33mBatchNormalization\u001b[0m)            │                        │               │\n",
       "├─────────────────────────────────┼────────────────────────┼───────────────┤\n",
       "│ dropout (\u001b[38;5;33mDropout\u001b[0m)               │ (\u001b[38;5;45mNone\u001b[0m, \u001b[38;5;34m16\u001b[0m, \u001b[38;5;34m64\u001b[0m)         │             \u001b[38;5;34m0\u001b[0m │\n",
       "├─────────────────────────────────┼────────────────────────┼───────────────┤\n",
       "│ conv1d (\u001b[38;5;33mConv1D\u001b[0m)                 │ (\u001b[38;5;45mNone\u001b[0m, \u001b[38;5;34m12\u001b[0m, \u001b[38;5;34m32\u001b[0m)         │        \u001b[38;5;34m10,272\u001b[0m │\n",
       "├─────────────────────────────────┼────────────────────────┼───────────────┤\n",
       "│ dropout_1 (\u001b[38;5;33mDropout\u001b[0m)             │ (\u001b[38;5;45mNone\u001b[0m, \u001b[38;5;34m12\u001b[0m, \u001b[38;5;34m32\u001b[0m)         │             \u001b[38;5;34m0\u001b[0m │\n",
       "├─────────────────────────────────┼────────────────────────┼───────────────┤\n",
       "│ max_pooling1d (\u001b[38;5;33mMaxPooling1D\u001b[0m)    │ (\u001b[38;5;45mNone\u001b[0m, \u001b[38;5;34m6\u001b[0m, \u001b[38;5;34m32\u001b[0m)          │             \u001b[38;5;34m0\u001b[0m │\n",
       "├─────────────────────────────────┼────────────────────────┼───────────────┤\n",
       "│ bidirectional (\u001b[38;5;33mBidirectional\u001b[0m)   │ (\u001b[38;5;45mNone\u001b[0m, \u001b[38;5;34m6\u001b[0m, \u001b[38;5;34m256\u001b[0m)         │       \u001b[38;5;34m164,864\u001b[0m │\n",
       "├─────────────────────────────────┼────────────────────────┼───────────────┤\n",
       "│ lstm_1 (\u001b[38;5;33mLSTM\u001b[0m)                   │ (\u001b[38;5;45mNone\u001b[0m, \u001b[38;5;34m64\u001b[0m)             │        \u001b[38;5;34m82,176\u001b[0m │\n",
       "├─────────────────────────────────┼────────────────────────┼───────────────┤\n",
       "│ dropout_2 (\u001b[38;5;33mDropout\u001b[0m)             │ (\u001b[38;5;45mNone\u001b[0m, \u001b[38;5;34m64\u001b[0m)             │             \u001b[38;5;34m0\u001b[0m │\n",
       "├─────────────────────────────────┼────────────────────────┼───────────────┤\n",
       "│ dense (\u001b[38;5;33mDense\u001b[0m)                   │ (\u001b[38;5;45mNone\u001b[0m, \u001b[38;5;34m1\u001b[0m)              │            \u001b[38;5;34m65\u001b[0m │\n",
       "└─────────────────────────────────┴────────────────────────┴───────────────┘\n"
      ]
     },
     "metadata": {},
     "output_type": "display_data"
    },
    {
     "data": {
      "text/html": [
       "<pre style=\"white-space:pre;overflow-x:auto;line-height:normal;font-family:Menlo,'DejaVu Sans Mono',consolas,'Courier New',monospace\"><span style=\"font-weight: bold\"> Total params: </span><span style=\"color: #00af00; text-decoration-color: #00af00\">529,633</span> (2.02 MB)\n",
       "</pre>\n"
      ],
      "text/plain": [
       "\u001b[1m Total params: \u001b[0m\u001b[38;5;34m529,633\u001b[0m (2.02 MB)\n"
      ]
     },
     "metadata": {},
     "output_type": "display_data"
    },
    {
     "data": {
      "text/html": [
       "<pre style=\"white-space:pre;overflow-x:auto;line-height:normal;font-family:Menlo,'DejaVu Sans Mono',consolas,'Courier New',monospace\"><span style=\"font-weight: bold\"> Trainable params: </span><span style=\"color: #00af00; text-decoration-color: #00af00\">529,505</span> (2.02 MB)\n",
       "</pre>\n"
      ],
      "text/plain": [
       "\u001b[1m Trainable params: \u001b[0m\u001b[38;5;34m529,505\u001b[0m (2.02 MB)\n"
      ]
     },
     "metadata": {},
     "output_type": "display_data"
    },
    {
     "data": {
      "text/html": [
       "<pre style=\"white-space:pre;overflow-x:auto;line-height:normal;font-family:Menlo,'DejaVu Sans Mono',consolas,'Courier New',monospace\"><span style=\"font-weight: bold\"> Non-trainable params: </span><span style=\"color: #00af00; text-decoration-color: #00af00\">128</span> (512.00 B)\n",
       "</pre>\n"
      ],
      "text/plain": [
       "\u001b[1m Non-trainable params: \u001b[0m\u001b[38;5;34m128\u001b[0m (512.00 B)\n"
      ]
     },
     "metadata": {},
     "output_type": "display_data"
    },
    {
     "name": "stdout",
     "output_type": "stream",
     "text": [
      "Classes: [0 1]\n",
      "Counts: [1197  313]\n",
      "Class weights: {0: 0.6307435254803676, 1: 2.412140575079872}\n",
      "----Training the network----\n",
      "Epoch 1/140\n",
      "48/48 - 5s - 114ms/step - accuracy: 0.5669 - loss: 0.6860 - val_accuracy: 0.8280 - val_loss: 0.6915\n",
      "Epoch 2/140\n",
      "48/48 - 1s - 14ms/step - accuracy: 0.5868 - loss: 0.6767 - val_accuracy: 0.8228 - val_loss: 0.6907\n",
      "Epoch 3/140\n",
      "48/48 - 1s - 13ms/step - accuracy: 0.6285 - loss: 0.6645 - val_accuracy: 0.8016 - val_loss: 0.6896\n",
      "Epoch 4/140\n",
      "48/48 - 1s - 13ms/step - accuracy: 0.6470 - loss: 0.6524 - val_accuracy: 0.7778 - val_loss: 0.6881\n",
      "Epoch 5/140\n",
      "48/48 - 1s - 13ms/step - accuracy: 0.6788 - loss: 0.6437 - val_accuracy: 0.7804 - val_loss: 0.6855\n",
      "Epoch 6/140\n",
      "48/48 - 1s - 13ms/step - accuracy: 0.6987 - loss: 0.6307 - val_accuracy: 0.7566 - val_loss: 0.6827\n",
      "Epoch 7/140\n",
      "48/48 - 1s - 12ms/step - accuracy: 0.6967 - loss: 0.6224 - val_accuracy: 0.7540 - val_loss: 0.6774\n",
      "Epoch 8/140\n",
      "48/48 - 1s - 12ms/step - accuracy: 0.7179 - loss: 0.6117 - val_accuracy: 0.7513 - val_loss: 0.6705\n",
      "Epoch 9/140\n",
      "48/48 - 1s - 13ms/step - accuracy: 0.7199 - loss: 0.5969 - val_accuracy: 0.7487 - val_loss: 0.6621\n",
      "Epoch 10/140\n",
      "48/48 - 1s - 13ms/step - accuracy: 0.7265 - loss: 0.5911 - val_accuracy: 0.7513 - val_loss: 0.6500\n",
      "Epoch 11/140\n",
      "48/48 - 1s - 13ms/step - accuracy: 0.7384 - loss: 0.5746 - val_accuracy: 0.7646 - val_loss: 0.6343\n",
      "Epoch 12/140\n",
      "48/48 - 1s - 12ms/step - accuracy: 0.7563 - loss: 0.5563 - val_accuracy: 0.7672 - val_loss: 0.6160\n",
      "Epoch 13/140\n",
      "48/48 - 1s - 13ms/step - accuracy: 0.7748 - loss: 0.5447 - val_accuracy: 0.7725 - val_loss: 0.5971\n",
      "Epoch 14/140\n",
      "48/48 - 1s - 13ms/step - accuracy: 0.7709 - loss: 0.5316 - val_accuracy: 0.7751 - val_loss: 0.5769\n",
      "Epoch 15/140\n",
      "48/48 - 1s - 12ms/step - accuracy: 0.7781 - loss: 0.5232 - val_accuracy: 0.7751 - val_loss: 0.5603\n",
      "Epoch 16/140\n",
      "48/48 - 1s - 12ms/step - accuracy: 0.7828 - loss: 0.5087 - val_accuracy: 0.7778 - val_loss: 0.5451\n",
      "Epoch 17/140\n",
      "48/48 - 1s - 12ms/step - accuracy: 0.7947 - loss: 0.4954 - val_accuracy: 0.7778 - val_loss: 0.5291\n",
      "Epoch 18/140\n",
      "48/48 - 1s - 13ms/step - accuracy: 0.7967 - loss: 0.4862 - val_accuracy: 0.7910 - val_loss: 0.5151\n",
      "Epoch 19/140\n",
      "48/48 - 1s - 13ms/step - accuracy: 0.7987 - loss: 0.4866 - val_accuracy: 0.7937 - val_loss: 0.5070\n",
      "Epoch 20/140\n",
      "48/48 - 1s - 13ms/step - accuracy: 0.7934 - loss: 0.4763 - val_accuracy: 0.8069 - val_loss: 0.4977\n",
      "Epoch 21/140\n",
      "48/48 - 1s - 13ms/step - accuracy: 0.8040 - loss: 0.4703 - val_accuracy: 0.8042 - val_loss: 0.4929\n",
      "Epoch 22/140\n",
      "48/48 - 1s - 12ms/step - accuracy: 0.7974 - loss: 0.4621 - val_accuracy: 0.8069 - val_loss: 0.4868\n",
      "Epoch 23/140\n",
      "48/48 - 1s - 12ms/step - accuracy: 0.7980 - loss: 0.4567 - val_accuracy: 0.8069 - val_loss: 0.4835\n",
      "Epoch 24/140\n",
      "48/48 - 1s - 12ms/step - accuracy: 0.8033 - loss: 0.4595 - val_accuracy: 0.8069 - val_loss: 0.4802\n",
      "Epoch 25/140\n",
      "48/48 - 1s - 13ms/step - accuracy: 0.8046 - loss: 0.4492 - val_accuracy: 0.8122 - val_loss: 0.4766\n",
      "Epoch 26/140\n",
      "48/48 - 1s - 12ms/step - accuracy: 0.8073 - loss: 0.4420 - val_accuracy: 0.8122 - val_loss: 0.4718\n",
      "Epoch 27/140\n",
      "48/48 - 1s - 13ms/step - accuracy: 0.8113 - loss: 0.4386 - val_accuracy: 0.8148 - val_loss: 0.4677\n",
      "Epoch 28/140\n",
      "48/48 - 1s - 13ms/step - accuracy: 0.8079 - loss: 0.4378 - val_accuracy: 0.8175 - val_loss: 0.4631\n",
      "Epoch 29/140\n",
      "48/48 - 1s - 13ms/step - accuracy: 0.8079 - loss: 0.4369 - val_accuracy: 0.8175 - val_loss: 0.4619\n",
      "Epoch 30/140\n",
      "48/48 - 1s - 13ms/step - accuracy: 0.8119 - loss: 0.4311 - val_accuracy: 0.8148 - val_loss: 0.4642\n",
      "Epoch 31/140\n",
      "48/48 - 1s - 12ms/step - accuracy: 0.8119 - loss: 0.4261 - val_accuracy: 0.8122 - val_loss: 0.4636\n",
      "Epoch 32/140\n",
      "48/48 - 1s - 13ms/step - accuracy: 0.8073 - loss: 0.4317 - val_accuracy: 0.8122 - val_loss: 0.4623\n",
      "Epoch 33/140\n",
      "48/48 - 1s - 13ms/step - accuracy: 0.8172 - loss: 0.4221 - val_accuracy: 0.8122 - val_loss: 0.4586\n",
      "Epoch 34/140\n",
      "48/48 - 1s - 13ms/step - accuracy: 0.8139 - loss: 0.4253 - val_accuracy: 0.8175 - val_loss: 0.4525\n",
      "Epoch 35/140\n",
      "48/48 - 1s - 13ms/step - accuracy: 0.8093 - loss: 0.4248 - val_accuracy: 0.8148 - val_loss: 0.4557\n",
      "Epoch 36/140\n",
      "48/48 - 1s - 13ms/step - accuracy: 0.8172 - loss: 0.4259 - val_accuracy: 0.8148 - val_loss: 0.4538\n",
      "Epoch 37/140\n",
      "48/48 - 1s - 13ms/step - accuracy: 0.8113 - loss: 0.4131 - val_accuracy: 0.8095 - val_loss: 0.4553\n",
      "Epoch 38/140\n",
      "48/48 - 1s - 12ms/step - accuracy: 0.8132 - loss: 0.4252 - val_accuracy: 0.8095 - val_loss: 0.4529\n",
      "Epoch 39/140\n",
      "48/48 - 1s - 13ms/step - accuracy: 0.8205 - loss: 0.4126 - val_accuracy: 0.8122 - val_loss: 0.4495\n",
      "Epoch 40/140\n",
      "48/48 - 1s - 12ms/step - accuracy: 0.8172 - loss: 0.4092 - val_accuracy: 0.8095 - val_loss: 0.4520\n",
      "Epoch 41/140\n",
      "48/48 - 1s - 13ms/step - accuracy: 0.8232 - loss: 0.4122 - val_accuracy: 0.8122 - val_loss: 0.4478\n",
      "Epoch 42/140\n",
      "48/48 - 1s - 12ms/step - accuracy: 0.8212 - loss: 0.4101 - val_accuracy: 0.8122 - val_loss: 0.4453\n",
      "Epoch 43/140\n",
      "48/48 - 1s - 12ms/step - accuracy: 0.8152 - loss: 0.4167 - val_accuracy: 0.8122 - val_loss: 0.4439\n",
      "Epoch 44/140\n",
      "48/48 - 1s - 12ms/step - accuracy: 0.8185 - loss: 0.4006 - val_accuracy: 0.8122 - val_loss: 0.4438\n",
      "Epoch 45/140\n",
      "48/48 - 1s - 12ms/step - accuracy: 0.8179 - loss: 0.4073 - val_accuracy: 0.8095 - val_loss: 0.4458\n",
      "Epoch 46/140\n",
      "48/48 - 1s - 12ms/step - accuracy: 0.8199 - loss: 0.4023 - val_accuracy: 0.8042 - val_loss: 0.4473\n",
      "Epoch 47/140\n",
      "48/48 - 1s - 12ms/step - accuracy: 0.8205 - loss: 0.3994 - val_accuracy: 0.8069 - val_loss: 0.4440\n",
      "Epoch 48/140\n",
      "48/48 - 1s - 13ms/step - accuracy: 0.8272 - loss: 0.4033 - val_accuracy: 0.8069 - val_loss: 0.4434\n",
      "Epoch 49/140\n",
      "48/48 - 1s - 12ms/step - accuracy: 0.8291 - loss: 0.4034 - val_accuracy: 0.8042 - val_loss: 0.4456\n",
      "Epoch 50/140\n",
      "48/48 - 1s - 12ms/step - accuracy: 0.8245 - loss: 0.3883 - val_accuracy: 0.8122 - val_loss: 0.4427\n",
      "Epoch 51/140\n",
      "48/48 - 1s - 12ms/step - accuracy: 0.8265 - loss: 0.3929 - val_accuracy: 0.8122 - val_loss: 0.4410\n",
      "Epoch 52/140\n",
      "48/48 - 1s - 12ms/step - accuracy: 0.8185 - loss: 0.3931 - val_accuracy: 0.8069 - val_loss: 0.4405\n",
      "Epoch 53/140\n",
      "48/48 - 1s - 12ms/step - accuracy: 0.8291 - loss: 0.3951 - val_accuracy: 0.8069 - val_loss: 0.4391\n",
      "Epoch 54/140\n",
      "48/48 - 1s - 12ms/step - accuracy: 0.8272 - loss: 0.3873 - val_accuracy: 0.8095 - val_loss: 0.4384\n",
      "Epoch 55/140\n",
      "48/48 - 1s - 13ms/step - accuracy: 0.8305 - loss: 0.3947 - val_accuracy: 0.8148 - val_loss: 0.4356\n",
      "Epoch 56/140\n",
      "48/48 - 1s - 12ms/step - accuracy: 0.8298 - loss: 0.3915 - val_accuracy: 0.8175 - val_loss: 0.4325\n",
      "Epoch 57/140\n",
      "48/48 - 1s - 12ms/step - accuracy: 0.8358 - loss: 0.3872 - val_accuracy: 0.8175 - val_loss: 0.4323\n",
      "Epoch 58/140\n",
      "48/48 - 1s - 13ms/step - accuracy: 0.8344 - loss: 0.3862 - val_accuracy: 0.8148 - val_loss: 0.4322\n",
      "Epoch 59/140\n",
      "48/48 - 1s - 13ms/step - accuracy: 0.8430 - loss: 0.3795 - val_accuracy: 0.8175 - val_loss: 0.4263\n",
      "Epoch 60/140\n",
      "48/48 - 1s - 13ms/step - accuracy: 0.8364 - loss: 0.3728 - val_accuracy: 0.8201 - val_loss: 0.4268\n",
      "Epoch 61/140\n",
      "48/48 - 1s - 12ms/step - accuracy: 0.8411 - loss: 0.3795 - val_accuracy: 0.8095 - val_loss: 0.4309\n",
      "Epoch 62/140\n",
      "48/48 - 1s - 12ms/step - accuracy: 0.8404 - loss: 0.3621 - val_accuracy: 0.8175 - val_loss: 0.4281\n",
      "Epoch 63/140\n",
      "48/48 - 1s - 12ms/step - accuracy: 0.8377 - loss: 0.3675 - val_accuracy: 0.8201 - val_loss: 0.4261\n",
      "Epoch 64/140\n",
      "48/48 - 1s - 12ms/step - accuracy: 0.8497 - loss: 0.3501 - val_accuracy: 0.8333 - val_loss: 0.4189\n",
      "Epoch 65/140\n",
      "48/48 - 1s - 12ms/step - accuracy: 0.8503 - loss: 0.3539 - val_accuracy: 0.8307 - val_loss: 0.4193\n",
      "Epoch 66/140\n",
      "48/48 - 1s - 12ms/step - accuracy: 0.8589 - loss: 0.3511 - val_accuracy: 0.8360 - val_loss: 0.4172\n",
      "Epoch 67/140\n",
      "48/48 - 1s - 12ms/step - accuracy: 0.8470 - loss: 0.3547 - val_accuracy: 0.8360 - val_loss: 0.4181\n",
      "Epoch 68/140\n",
      "48/48 - 1s - 12ms/step - accuracy: 0.8563 - loss: 0.3509 - val_accuracy: 0.8360 - val_loss: 0.4165\n",
      "Epoch 69/140\n",
      "48/48 - 1s - 12ms/step - accuracy: 0.8543 - loss: 0.3479 - val_accuracy: 0.8307 - val_loss: 0.4209\n",
      "Epoch 70/140\n",
      "48/48 - 1s - 12ms/step - accuracy: 0.8563 - loss: 0.3435 - val_accuracy: 0.8280 - val_loss: 0.4213\n",
      "Epoch 71/140\n",
      "48/48 - 1s - 12ms/step - accuracy: 0.8616 - loss: 0.3382 - val_accuracy: 0.8360 - val_loss: 0.4167\n",
      "Epoch 72/140\n",
      "48/48 - 1s - 13ms/step - accuracy: 0.8570 - loss: 0.3395 - val_accuracy: 0.8333 - val_loss: 0.4166\n",
      "Epoch 73/140\n",
      "48/48 - 1s - 12ms/step - accuracy: 0.8583 - loss: 0.3315 - val_accuracy: 0.8386 - val_loss: 0.4121\n",
      "Epoch 74/140\n",
      "48/48 - 1s - 13ms/step - accuracy: 0.8629 - loss: 0.3297 - val_accuracy: 0.8386 - val_loss: 0.4094\n",
      "Epoch 75/140\n",
      "48/48 - 1s - 13ms/step - accuracy: 0.8623 - loss: 0.3326 - val_accuracy: 0.8386 - val_loss: 0.4119\n",
      "Epoch 76/140\n",
      "48/48 - 1s - 12ms/step - accuracy: 0.8695 - loss: 0.3191 - val_accuracy: 0.8386 - val_loss: 0.4095\n",
      "Epoch 77/140\n",
      "48/48 - 1s - 13ms/step - accuracy: 0.8702 - loss: 0.3196 - val_accuracy: 0.8386 - val_loss: 0.4094\n",
      "Epoch 78/140\n",
      "48/48 - 1s - 13ms/step - accuracy: 0.8728 - loss: 0.3158 - val_accuracy: 0.8413 - val_loss: 0.4074\n",
      "Epoch 79/140\n",
      "48/48 - 1s - 12ms/step - accuracy: 0.8762 - loss: 0.3190 - val_accuracy: 0.8439 - val_loss: 0.4070\n",
      "Epoch 80/140\n",
      "48/48 - 1s - 13ms/step - accuracy: 0.8656 - loss: 0.3156 - val_accuracy: 0.8439 - val_loss: 0.4065\n",
      "Epoch 81/140\n",
      "48/48 - 1s - 13ms/step - accuracy: 0.8834 - loss: 0.3038 - val_accuracy: 0.8439 - val_loss: 0.4019\n",
      "Epoch 82/140\n",
      "48/48 - 1s - 13ms/step - accuracy: 0.8781 - loss: 0.3043 - val_accuracy: 0.8413 - val_loss: 0.4009\n",
      "Epoch 83/140\n",
      "48/48 - 1s - 12ms/step - accuracy: 0.8768 - loss: 0.3027 - val_accuracy: 0.8439 - val_loss: 0.4026\n",
      "Epoch 84/140\n",
      "48/48 - 1s - 12ms/step - accuracy: 0.8801 - loss: 0.2955 - val_accuracy: 0.8466 - val_loss: 0.3984\n",
      "Epoch 85/140\n",
      "48/48 - 1s - 13ms/step - accuracy: 0.8887 - loss: 0.2967 - val_accuracy: 0.8492 - val_loss: 0.3950\n",
      "Epoch 86/140\n",
      "48/48 - 1s - 12ms/step - accuracy: 0.8901 - loss: 0.2768 - val_accuracy: 0.8492 - val_loss: 0.3949\n",
      "Epoch 87/140\n",
      "48/48 - 1s - 12ms/step - accuracy: 0.8954 - loss: 0.2788 - val_accuracy: 0.8519 - val_loss: 0.3947\n",
      "Epoch 88/140\n",
      "48/48 - 1s - 13ms/step - accuracy: 0.8881 - loss: 0.2935 - val_accuracy: 0.8466 - val_loss: 0.3996\n",
      "Epoch 89/140\n",
      "48/48 - 1s - 12ms/step - accuracy: 0.8927 - loss: 0.2640 - val_accuracy: 0.8571 - val_loss: 0.3953\n",
      "Epoch 90/140\n",
      "48/48 - 1s - 13ms/step - accuracy: 0.8868 - loss: 0.2866 - val_accuracy: 0.8519 - val_loss: 0.3950\n",
      "Epoch 91/140\n",
      "48/48 - 1s - 13ms/step - accuracy: 0.8927 - loss: 0.2813 - val_accuracy: 0.8545 - val_loss: 0.3909\n",
      "Epoch 92/140\n",
      "48/48 - 1s - 13ms/step - accuracy: 0.9040 - loss: 0.2617 - val_accuracy: 0.8519 - val_loss: 0.3923\n",
      "Epoch 93/140\n",
      "48/48 - 1s - 12ms/step - accuracy: 0.9026 - loss: 0.2608 - val_accuracy: 0.8519 - val_loss: 0.3874\n",
      "Epoch 94/140\n",
      "48/48 - 1s - 12ms/step - accuracy: 0.8940 - loss: 0.2750 - val_accuracy: 0.8545 - val_loss: 0.3916\n",
      "Epoch 95/140\n",
      "48/48 - 1s - 12ms/step - accuracy: 0.9046 - loss: 0.2513 - val_accuracy: 0.8519 - val_loss: 0.3898\n",
      "Epoch 96/140\n",
      "48/48 - 1s - 12ms/step - accuracy: 0.9026 - loss: 0.2670 - val_accuracy: 0.8545 - val_loss: 0.3958\n",
      "Epoch 97/140\n",
      "48/48 - 1s - 13ms/step - accuracy: 0.9106 - loss: 0.2410 - val_accuracy: 0.8439 - val_loss: 0.3929\n",
      "Epoch 98/140\n",
      "48/48 - 1s - 12ms/step - accuracy: 0.8980 - loss: 0.2543 - val_accuracy: 0.8439 - val_loss: 0.3893\n",
      "Epoch 99/140\n",
      "48/48 - 1s - 13ms/step - accuracy: 0.8960 - loss: 0.2473 - val_accuracy: 0.8492 - val_loss: 0.3904\n",
      "Epoch 100/140\n",
      "48/48 - 1s - 12ms/step - accuracy: 0.9040 - loss: 0.2434 - val_accuracy: 0.8466 - val_loss: 0.3922\n",
      "Epoch 101/140\n",
      "48/48 - 1s - 12ms/step - accuracy: 0.9099 - loss: 0.2507 - val_accuracy: 0.8466 - val_loss: 0.3922\n",
      "Epoch 102/140\n",
      "48/48 - 1s - 12ms/step - accuracy: 0.8967 - loss: 0.2418 - val_accuracy: 0.8466 - val_loss: 0.3932\n",
      "Epoch 103/140\n",
      "48/48 - 1s - 12ms/step - accuracy: 0.9093 - loss: 0.2352 - val_accuracy: 0.8492 - val_loss: 0.3887\n",
      "Epoch 104/140\n",
      "48/48 - 1s - 14ms/step - accuracy: 0.9099 - loss: 0.2313 - val_accuracy: 0.8492 - val_loss: 0.3860\n",
      "Epoch 105/140\n",
      "48/48 - 1s - 12ms/step - accuracy: 0.9053 - loss: 0.2302 - val_accuracy: 0.8492 - val_loss: 0.3820\n",
      "Epoch 106/140\n",
      "48/48 - 1s - 13ms/step - accuracy: 0.9232 - loss: 0.2209 - val_accuracy: 0.8492 - val_loss: 0.3847\n",
      "Epoch 107/140\n",
      "48/48 - 1s - 12ms/step - accuracy: 0.9146 - loss: 0.2263 - val_accuracy: 0.8466 - val_loss: 0.3832\n",
      "Epoch 108/140\n",
      "48/48 - 1s - 12ms/step - accuracy: 0.9146 - loss: 0.2146 - val_accuracy: 0.8519 - val_loss: 0.3797\n",
      "Epoch 109/140\n",
      "48/48 - 1s - 12ms/step - accuracy: 0.9192 - loss: 0.2107 - val_accuracy: 0.8492 - val_loss: 0.3834\n",
      "Epoch 110/140\n",
      "48/48 - 1s - 12ms/step - accuracy: 0.9219 - loss: 0.2100 - val_accuracy: 0.8519 - val_loss: 0.3851\n",
      "Epoch 111/140\n",
      "48/48 - 1s - 12ms/step - accuracy: 0.9245 - loss: 0.1974 - val_accuracy: 0.8545 - val_loss: 0.3798\n",
      "Epoch 112/140\n",
      "48/48 - 1s - 12ms/step - accuracy: 0.9371 - loss: 0.2003 - val_accuracy: 0.8519 - val_loss: 0.3784\n",
      "Epoch 113/140\n",
      "48/48 - 1s - 12ms/step - accuracy: 0.9265 - loss: 0.2063 - val_accuracy: 0.8519 - val_loss: 0.3855\n",
      "Epoch 114/140\n",
      "48/48 - 1s - 14ms/step - accuracy: 0.9265 - loss: 0.2094 - val_accuracy: 0.8492 - val_loss: 0.3835\n",
      "Epoch 115/140\n",
      "48/48 - 1s - 13ms/step - accuracy: 0.9258 - loss: 0.2039 - val_accuracy: 0.8492 - val_loss: 0.3840\n",
      "Epoch 116/140\n",
      "48/48 - 1s - 12ms/step - accuracy: 0.9298 - loss: 0.1965 - val_accuracy: 0.8545 - val_loss: 0.3814\n",
      "Epoch 117/140\n",
      "48/48 - 1s - 13ms/step - accuracy: 0.9219 - loss: 0.2072 - val_accuracy: 0.8519 - val_loss: 0.3870\n",
      "Epoch 118/140\n",
      "48/48 - 1s - 13ms/step - accuracy: 0.9331 - loss: 0.2048 - val_accuracy: 0.8519 - val_loss: 0.3839\n",
      "Epoch 119/140\n",
      "48/48 - 1s - 12ms/step - accuracy: 0.9305 - loss: 0.2013 - val_accuracy: 0.8466 - val_loss: 0.3943\n",
      "Epoch 120/140\n",
      "48/48 - 1s - 12ms/step - accuracy: 0.9338 - loss: 0.1770 - val_accuracy: 0.8545 - val_loss: 0.3836\n",
      "Epoch 121/140\n",
      "48/48 - 1s - 12ms/step - accuracy: 0.9364 - loss: 0.1826 - val_accuracy: 0.8571 - val_loss: 0.3808\n",
      "Epoch 122/140\n",
      "48/48 - 1s - 14ms/step - accuracy: 0.9384 - loss: 0.1858 - val_accuracy: 0.8519 - val_loss: 0.3834\n",
      "Epoch 123/140\n",
      "48/48 - 1s - 12ms/step - accuracy: 0.9490 - loss: 0.1650 - val_accuracy: 0.8492 - val_loss: 0.3841\n",
      "Epoch 124/140\n",
      "48/48 - 1s - 12ms/step - accuracy: 0.9318 - loss: 0.1844 - val_accuracy: 0.8519 - val_loss: 0.3902\n",
      "Epoch 125/140\n",
      "48/48 - 1s - 13ms/step - accuracy: 0.9411 - loss: 0.1767 - val_accuracy: 0.8545 - val_loss: 0.3928\n",
      "Epoch 126/140\n",
      "48/48 - 1s - 13ms/step - accuracy: 0.9377 - loss: 0.1676 - val_accuracy: 0.8519 - val_loss: 0.3931\n",
      "Epoch 127/140\n",
      "48/48 - 1s - 13ms/step - accuracy: 0.9424 - loss: 0.1536 - val_accuracy: 0.8492 - val_loss: 0.3823\n",
      "Epoch 128/140\n",
      "48/48 - 1s - 13ms/step - accuracy: 0.9298 - loss: 0.1798 - val_accuracy: 0.8492 - val_loss: 0.3891\n",
      "Epoch 129/140\n",
      "48/48 - 1s - 13ms/step - accuracy: 0.9464 - loss: 0.1720 - val_accuracy: 0.8466 - val_loss: 0.3854\n",
      "Epoch 130/140\n",
      "48/48 - 1s - 13ms/step - accuracy: 0.9477 - loss: 0.1621 - val_accuracy: 0.8492 - val_loss: 0.3847\n",
      "Epoch 131/140\n",
      "48/48 - 1s - 13ms/step - accuracy: 0.9417 - loss: 0.1782 - val_accuracy: 0.8466 - val_loss: 0.3934\n",
      "Epoch 132/140\n",
      "48/48 - 1s - 12ms/step - accuracy: 0.9457 - loss: 0.1568 - val_accuracy: 0.8466 - val_loss: 0.3971\n",
      "Epoch 133/140\n",
      "48/48 - 1s - 13ms/step - accuracy: 0.9457 - loss: 0.1599 - val_accuracy: 0.8439 - val_loss: 0.3914\n",
      "Epoch 134/140\n",
      "48/48 - 1s - 13ms/step - accuracy: 0.9470 - loss: 0.1626 - val_accuracy: 0.8466 - val_loss: 0.3997\n",
      "Epoch 135/140\n",
      "48/48 - 1s - 13ms/step - accuracy: 0.9397 - loss: 0.1616 - val_accuracy: 0.8439 - val_loss: 0.3993\n",
      "Epoch 136/140\n",
      "48/48 - 1s - 13ms/step - accuracy: 0.9503 - loss: 0.1605 - val_accuracy: 0.8439 - val_loss: 0.3939\n",
      "Epoch 137/140\n",
      "48/48 - 1s - 13ms/step - accuracy: 0.9437 - loss: 0.1448 - val_accuracy: 0.8439 - val_loss: 0.3980\n",
      "Epoch 138/140\n",
      "48/48 - 1s - 13ms/step - accuracy: 0.9464 - loss: 0.1463 - val_accuracy: 0.8492 - val_loss: 0.3900\n",
      "Epoch 139/140\n",
      "48/48 - 1s - 12ms/step - accuracy: 0.9510 - loss: 0.1575 - val_accuracy: 0.8492 - val_loss: 0.3833\n",
      "Epoch 140/140\n",
      "48/48 - 1s - 13ms/step - accuracy: 0.9556 - loss: 0.1470 - val_accuracy: 0.8492 - val_loss: 0.3923\n",
      "Train score: [0.09877098351716995, 0.9794701933860779]\n",
      "Validation score: [0.392261803150177, 0.8492063283920288]\n"
     ]
    }
   ],
   "source": [
    "D = 64 #embedding dims\n",
    "epochs = 140\n",
    "r,model,n_epochs = lstm_model(Xtrain,Xval,ytrain,yval,V,D,max_seq_len,epochs)"
   ]
  },
  {
   "cell_type": "code",
   "execution_count": 35,
   "id": "7e435153-9fa8-4a87-8a5b-ca5805240629",
   "metadata": {},
   "outputs": [
    {
     "data": {
      "image/png": "[encoded data removed]",
      "text/plain": [
       "<Figure size 1000x500 with 2 Axes>"
      ]
     },
     "metadata": {},
     "output_type": "display_data"
    }
   ],
   "source": [
    "plotLearningCurve(r,n_epochs,'1')"
   ]
  },
  {
   "cell_type": "code",
   "execution_count": 36,
   "id": "aa385b1c-c56a-44e0-bba6-9e9aac1b3e21",
   "metadata": {},
   "outputs": [
    {
     "name": "stdout",
     "output_type": "stream",
     "text": [
      "Evaluate Model Performance on Test set\n",
      "\u001b[1m15/15\u001b[0m \u001b[32m━━━━━━━━━━━━━━━━━━━━\u001b[0m\u001b[37m\u001b[0m \u001b[1m0s\u001b[0m 5ms/step - accuracy: 0.8902 - loss: 0.2720\n",
      "{'loss': 0.2992241382598877, 'compile_metrics': 0.8771186470985413}\n"
     ]
    }
   ],
   "source": [
    "print(\"Evaluate Model Performance on Test set\")\n",
    "result = model.evaluate(pad_test,ytest)\n",
    "print(dict(zip(model.metrics_names, result)))"
   ]
  },
  {
   "cell_type": "code",
   "execution_count": 37,
   "id": "c0e44c1c-0b81-442e-bde8-8e9bc98e7e55",
   "metadata": {},
   "outputs": [
    {
     "name": "stdout",
     "output_type": "stream",
     "text": [
      "\u001b[1m15/15\u001b[0m \u001b[32m━━━━━━━━━━━━━━━━━━━━\u001b[0m\u001b[37m\u001b[0m \u001b[1m1s\u001b[0m 30ms/step\n"
     ]
    },
    {
     "data": {
      "image/png": "[encoded data removed]",
      "text/plain": [
       "<Figure size 640x480 with 2 Axes>"
      ]
     },
     "metadata": {},
     "output_type": "display_data"
    },
    {
     "name": "stdout",
     "output_type": "stream",
     "text": [
      "              precision    recall  f1-score   support\n",
      "\n",
      "           0       0.93      0.91      0.92       369\n",
      "           1       0.70      0.77      0.73       103\n",
      "\n",
      "    accuracy                           0.88       472\n",
      "   macro avg       0.82      0.84      0.83       472\n",
      "weighted avg       0.88      0.88      0.88       472\n",
      "\n"
     ]
    }
   ],
   "source": [
    "\n",
    "ypred = model.predict(pad_test)\n",
    "ypred = ypred>0.5\n",
    "#Get the confusion matrix\n",
    "cf_matrix = confusion_matrix(ytest, ypred)\n",
    "class_names = ['Fear', 'Greed']\n",
    "sns.heatmap(cf_matrix , annot=True, fmt='d', cmap='Blues', xticklabels=class_names, yticklabels=class_names)\n",
    "plt.xlabel('Predicted label')\n",
    "plt.ylabel('True label')\n",
    "plt.savefig('LSTMmat.png')\n",
    "plt.show()\n",
    "print(classification_report(ytest, ypred))"
   ]
  },
  {
   "cell_type": "code",
   "execution_count": 38,
   "id": "849d7e9b-cf14-46fc-a212-d9eab7b73e09",
   "metadata": {},
   "outputs": [],
   "source": [
    "from tensorflow.keras.layers import Input, Embedding, BatchNormalization, Dropout, Conv1D, MaxPooling1D, Bidirectional, SimpleRNN, Dense\n",
    "from tensorflow.keras.models import Model\n",
    "from tensorflow.keras.optimizers import Adam\n",
    "\n",
    "def rnn_model(Xtrain, Xval, ytrain, yval, V, D, maxlen, epochs):\n",
    "    print(\"----Building the model----\")\n",
    "    i = Input(shape=(maxlen,))\n",
    "    x = Embedding(V + 1, D)(i)  \n",
    "    x = BatchNormalization()(x)\n",
    "    x = Dropout(0.3)(x)\n",
    "    x = Conv1D(32, 5, activation='relu')(x)\n",
    "    x = Dropout(0.3)(x)\n",
    "    x = MaxPooling1D(2)(x)\n",
    "    x = Bidirectional(SimpleRNN(128, return_sequences=True))(x)\n",
    "    x = SimpleRNN(64)(x)\n",
    "    x = Dropout(0.5)(x)\n",
    "    x = Dense(1, activation='sigmoid')(x)\n",
    "    model = Model(i, x)\n",
    "    model.summary()\n",
    "    ytrain = np.array(ytrain).reshape(-1, 1)\n",
    "    yval = np.array(yval).reshape(-1, 1)\n",
    "    classes, counts = np.unique(ytrain, return_counts=True)\n",
    "    print(f\"Classes: {classes}\")\n",
    "    print(f\"Counts: {counts}\")\n",
    "    class_weights = compute_class_weight(class_weight='balanced', classes=classes, y=ytrain.ravel())\n",
    "    class_weights = dict(zip(classes, class_weights))\n",
    "    print(f\"Class weights: {class_weights}\")\n",
    "\n",
    "    # Training the LSTM\n",
    "    print(\"----Training the network----\")\n",
    "    model.compile(optimizer=Adam(0.000007),\n",
    "                  loss='binary_crossentropy',\n",
    "                  metrics=['accuracy'])\n",
    "\n",
    "    r = model.fit(Xtrain, ytrain, \n",
    "                  validation_data=(Xval, yval), \n",
    "                  epochs=epochs, \n",
    "                  verbose=2,\n",
    "                  batch_size=32,\n",
    "                  class_weight=class_weights)\n",
    "                  #callbacks = callbacks\n",
    "                  \n",
    "    # Evaluate the model\n",
    "    train_score = model.evaluate(Xtrain, ytrain, verbose=0)\n",
    "    val_score = model.evaluate(Xval, yval, verbose=0)\n",
    "    \n",
    "    print(f\"Train score: {train_score}\")\n",
    "    print(f\"Validation score: {val_score}\")\n",
    "    \n",
    "    n_epochs = len(r.history['loss'])\n",
    "    \n",
    "    return r, model, n_epochs\n",
    "\n"
   ]
  },
  {
   "cell_type": "code",
   "execution_count": 39,
   "id": "8d421ec8-6a43-46c8-8040-bb167ed2c395",
   "metadata": {},
   "outputs": [
    {
     "name": "stdout",
     "output_type": "stream",
     "text": [
      "----Building the model----\n"
     ]
    },
    {
     "data": {
      "text/html": [
       "<pre style=\"white-space:pre;overflow-x:auto;line-height:normal;font-family:Menlo,'DejaVu Sans Mono',consolas,'Courier New',monospace\"><span style=\"font-weight: bold\">Model: \"functional_3\"</span>\n",
       "</pre>\n"
      ],
      "text/plain": [
       "\u001b[1mModel: \"functional_3\"\u001b[0m\n"
      ]
     },
     "metadata": {},
     "output_type": "display_data"
    },
    {
     "data": {
      "text/html": [
       "<pre style=\"white-space:pre;overflow-x:auto;line-height:normal;font-family:Menlo,'DejaVu Sans Mono',consolas,'Courier New',monospace\">┏━━━━━━━━━━━━━━━━━━━━━━━━━━━━━━━━━┳━━━━━━━━━━━━━━━━━━━━━━━━┳━━━━━━━━━━━━━━━┓\n",
       "┃<span style=\"font-weight: bold\"> Layer (type)                    </span>┃<span style=\"font-weight: bold\"> Output Shape           </span>┃<span style=\"font-weight: bold\">       Param # </span>┃\n",
       "┡━━━━━━━━━━━━━━━━━━━━━━━━━━━━━━━━━╇━━━━━━━━━━━━━━━━━━━━━━━━╇━━━━━━━━━━━━━━━┩\n",
       "│ input_layer_1 (<span style=\"color: #0087ff; text-decoration-color: #0087ff\">InputLayer</span>)      │ (<span style=\"color: #00d7ff; text-decoration-color: #00d7ff\">None</span>, <span style=\"color: #00af00; text-decoration-color: #00af00\">16</span>)             │             <span style=\"color: #00af00; text-decoration-color: #00af00\">0</span> │\n",
       "├─────────────────────────────────┼────────────────────────┼───────────────┤\n",
       "│ embedding_1 (<span style=\"color: #0087ff; text-decoration-color: #0087ff\">Embedding</span>)         │ (<span style=\"color: #00d7ff; text-decoration-color: #00d7ff\">None</span>, <span style=\"color: #00af00; text-decoration-color: #00af00\">16</span>, <span style=\"color: #00af00; text-decoration-color: #00af00\">64</span>)         │       <span style=\"color: #00af00; text-decoration-color: #00af00\">272,000</span> │\n",
       "├─────────────────────────────────┼────────────────────────┼───────────────┤\n",
       "│ batch_normalization_1           │ (<span style=\"color: #00d7ff; text-decoration-color: #00d7ff\">None</span>, <span style=\"color: #00af00; text-decoration-color: #00af00\">16</span>, <span style=\"color: #00af00; text-decoration-color: #00af00\">64</span>)         │           <span style=\"color: #00af00; text-decoration-color: #00af00\">256</span> │\n",
       "│ (<span style=\"color: #0087ff; text-decoration-color: #0087ff\">BatchNormalization</span>)            │                        │               │\n",
       "├─────────────────────────────────┼────────────────────────┼───────────────┤\n",
       "│ dropout_3 (<span style=\"color: #0087ff; text-decoration-color: #0087ff\">Dropout</span>)             │ (<span style=\"color: #00d7ff; text-decoration-color: #00d7ff\">None</span>, <span style=\"color: #00af00; text-decoration-color: #00af00\">16</span>, <span style=\"color: #00af00; text-decoration-color: #00af00\">64</span>)         │             <span style=\"color: #00af00; text-decoration-color: #00af00\">0</span> │\n",
       "├─────────────────────────────────┼────────────────────────┼───────────────┤\n",
       "│ conv1d_1 (<span style=\"color: #0087ff; text-decoration-color: #0087ff\">Conv1D</span>)               │ (<span style=\"color: #00d7ff; text-decoration-color: #00d7ff\">None</span>, <span style=\"color: #00af00; text-decoration-color: #00af00\">12</span>, <span style=\"color: #00af00; text-decoration-color: #00af00\">32</span>)         │        <span style=\"color: #00af00; text-decoration-color: #00af00\">10,272</span> │\n",
       "├─────────────────────────────────┼────────────────────────┼───────────────┤\n",
       "│ dropout_4 (<span style=\"color: #0087ff; text-decoration-color: #0087ff\">Dropout</span>)             │ (<span style=\"color: #00d7ff; text-decoration-color: #00d7ff\">None</span>, <span style=\"color: #00af00; text-decoration-color: #00af00\">12</span>, <span style=\"color: #00af00; text-decoration-color: #00af00\">32</span>)         │             <span style=\"color: #00af00; text-decoration-color: #00af00\">0</span> │\n",
       "├─────────────────────────────────┼────────────────────────┼───────────────┤\n",
       "│ max_pooling1d_1 (<span style=\"color: #0087ff; text-decoration-color: #0087ff\">MaxPooling1D</span>)  │ (<span style=\"color: #00d7ff; text-decoration-color: #00d7ff\">None</span>, <span style=\"color: #00af00; text-decoration-color: #00af00\">6</span>, <span style=\"color: #00af00; text-decoration-color: #00af00\">32</span>)          │             <span style=\"color: #00af00; text-decoration-color: #00af00\">0</span> │\n",
       "├─────────────────────────────────┼────────────────────────┼───────────────┤\n",
       "│ bidirectional_1 (<span style=\"color: #0087ff; text-decoration-color: #0087ff\">Bidirectional</span>) │ (<span style=\"color: #00d7ff; text-decoration-color: #00d7ff\">None</span>, <span style=\"color: #00af00; text-decoration-color: #00af00\">6</span>, <span style=\"color: #00af00; text-decoration-color: #00af00\">256</span>)         │        <span style=\"color: #00af00; text-decoration-color: #00af00\">41,216</span> │\n",
       "├─────────────────────────────────┼────────────────────────┼───────────────┤\n",
       "│ simple_rnn_1 (<span style=\"color: #0087ff; text-decoration-color: #0087ff\">SimpleRNN</span>)        │ (<span style=\"color: #00d7ff; text-decoration-color: #00d7ff\">None</span>, <span style=\"color: #00af00; text-decoration-color: #00af00\">64</span>)             │        <span style=\"color: #00af00; text-decoration-color: #00af00\">20,544</span> │\n",
       "├─────────────────────────────────┼────────────────────────┼───────────────┤\n",
       "│ dropout_5 (<span style=\"color: #0087ff; text-decoration-color: #0087ff\">Dropout</span>)             │ (<span style=\"color: #00d7ff; text-decoration-color: #00d7ff\">None</span>, <span style=\"color: #00af00; text-decoration-color: #00af00\">64</span>)             │             <span style=\"color: #00af00; text-decoration-color: #00af00\">0</span> │\n",
       "├─────────────────────────────────┼────────────────────────┼───────────────┤\n",
       "│ dense_1 (<span style=\"color: #0087ff; text-decoration-color: #0087ff\">Dense</span>)                 │ (<span style=\"color: #00d7ff; text-decoration-color: #00d7ff\">None</span>, <span style=\"color: #00af00; text-decoration-color: #00af00\">1</span>)              │            <span style=\"color: #00af00; text-decoration-color: #00af00\">65</span> │\n",
       "└─────────────────────────────────┴────────────────────────┴───────────────┘\n",
       "</pre>\n"
      ],
      "text/plain": [
       "┏━━━━━━━━━━━━━━━━━━━━━━━━━━━━━━━━━┳━━━━━━━━━━━━━━━━━━━━━━━━┳━━━━━━━━━━━━━━━┓\n",
       "┃\u001b[1m \u001b[0m\u001b[1mLayer (type)                   \u001b[0m\u001b[1m \u001b[0m┃\u001b[1m \u001b[0m\u001b[1mOutput Shape          \u001b[0m\u001b[1m \u001b[0m┃\u001b[1m \u001b[0m\u001b[1m      Param #\u001b[0m\u001b[1m \u001b[0m┃\n",
       "┡━━━━━━━━━━━━━━━━━━━━━━━━━━━━━━━━━╇━━━━━━━━━━━━━━━━━━━━━━━━╇━━━━━━━━━━━━━━━┩\n",
       "│ input_layer_1 (\u001b[38;5;33mInputLayer\u001b[0m)      │ (\u001b[38;5;45mNone\u001b[0m, \u001b[38;5;34m16\u001b[0m)             │             \u001b[38;5;34m0\u001b[0m │\n",
       "├─────────────────────────────────┼────────────────────────┼───────────────┤\n",
       "│ embedding_1 (\u001b[38;5;33mEmbedding\u001b[0m)         │ (\u001b[38;5;45mNone\u001b[0m, \u001b[38;5;34m16\u001b[0m, \u001b[38;5;34m64\u001b[0m)         │       \u001b[38;5;34m272,000\u001b[0m │\n",
       "├─────────────────────────────────┼────────────────────────┼───────────────┤\n",
       "│ batch_normalization_1           │ (\u001b[38;5;45mNone\u001b[0m, \u001b[38;5;34m16\u001b[0m, \u001b[38;5;34m64\u001b[0m)         │           \u001b[38;5;34m256\u001b[0m │\n",
       "│ (\u001b[38;5;33mBatchNormalization\u001b[0m)            │                        │               │\n",
       "├─────────────────────────────────┼────────────────────────┼───────────────┤\n",
       "│ dropout_3 (\u001b[38;5;33mDropout\u001b[0m)             │ (\u001b[38;5;45mNone\u001b[0m, \u001b[38;5;34m16\u001b[0m, \u001b[38;5;34m64\u001b[0m)         │             \u001b[38;5;34m0\u001b[0m │\n",
       "├─────────────────────────────────┼────────────────────────┼───────────────┤\n",
       "│ conv1d_1 (\u001b[38;5;33mConv1D\u001b[0m)               │ (\u001b[38;5;45mNone\u001b[0m, \u001b[38;5;34m12\u001b[0m, \u001b[38;5;34m32\u001b[0m)         │        \u001b[38;5;34m10,272\u001b[0m │\n",
       "├─────────────────────────────────┼────────────────────────┼───────────────┤\n",
       "│ dropout_4 (\u001b[38;5;33mDropout\u001b[0m)             │ (\u001b[38;5;45mNone\u001b[0m, \u001b[38;5;34m12\u001b[0m, \u001b[38;5;34m32\u001b[0m)         │             \u001b[38;5;34m0\u001b[0m │\n",
       "├─────────────────────────────────┼────────────────────────┼───────────────┤\n",
       "│ max_pooling1d_1 (\u001b[38;5;33mMaxPooling1D\u001b[0m)  │ (\u001b[38;5;45mNone\u001b[0m, \u001b[38;5;34m6\u001b[0m, \u001b[38;5;34m32\u001b[0m)          │             \u001b[38;5;34m0\u001b[0m │\n",
       "├─────────────────────────────────┼────────────────────────┼───────────────┤\n",
       "│ bidirectional_1 (\u001b[38;5;33mBidirectional\u001b[0m) │ (\u001b[38;5;45mNone\u001b[0m, \u001b[38;5;34m6\u001b[0m, \u001b[38;5;34m256\u001b[0m)         │        \u001b[38;5;34m41,216\u001b[0m │\n",
       "├─────────────────────────────────┼────────────────────────┼───────────────┤\n",
       "│ simple_rnn_1 (\u001b[38;5;33mSimpleRNN\u001b[0m)        │ (\u001b[38;5;45mNone\u001b[0m, \u001b[38;5;34m64\u001b[0m)             │        \u001b[38;5;34m20,544\u001b[0m │\n",
       "├─────────────────────────────────┼────────────────────────┼───────────────┤\n",
       "│ dropout_5 (\u001b[38;5;33mDropout\u001b[0m)             │ (\u001b[38;5;45mNone\u001b[0m, \u001b[38;5;34m64\u001b[0m)             │             \u001b[38;5;34m0\u001b[0m │\n",
       "├─────────────────────────────────┼────────────────────────┼───────────────┤\n",
       "│ dense_1 (\u001b[38;5;33mDense\u001b[0m)                 │ (\u001b[38;5;45mNone\u001b[0m, \u001b[38;5;34m1\u001b[0m)              │            \u001b[38;5;34m65\u001b[0m │\n",
       "└─────────────────────────────────┴────────────────────────┴───────────────┘\n"
      ]
     },
     "metadata": {},
     "output_type": "display_data"
    },
    {
     "data": {
      "text/html": [
       "<pre style=\"white-space:pre;overflow-x:auto;line-height:normal;font-family:Menlo,'DejaVu Sans Mono',consolas,'Courier New',monospace\"><span style=\"font-weight: bold\"> Total params: </span><span style=\"color: #00af00; text-decoration-color: #00af00\">344,353</span> (1.31 MB)\n",
       "</pre>\n"
      ],
      "text/plain": [
       "\u001b[1m Total params: \u001b[0m\u001b[38;5;34m344,353\u001b[0m (1.31 MB)\n"
      ]
     },
     "metadata": {},
     "output_type": "display_data"
    },
    {
     "data": {
      "text/html": [
       "<pre style=\"white-space:pre;overflow-x:auto;line-height:normal;font-family:Menlo,'DejaVu Sans Mono',consolas,'Courier New',monospace\"><span style=\"font-weight: bold\"> Trainable params: </span><span style=\"color: #00af00; text-decoration-color: #00af00\">344,225</span> (1.31 MB)\n",
       "</pre>\n"
      ],
      "text/plain": [
       "\u001b[1m Trainable params: \u001b[0m\u001b[38;5;34m344,225\u001b[0m (1.31 MB)\n"
      ]
     },
     "metadata": {},
     "output_type": "display_data"
    },
    {
     "data": {
      "text/html": [
       "<pre style=\"white-space:pre;overflow-x:auto;line-height:normal;font-family:Menlo,'DejaVu Sans Mono',consolas,'Courier New',monospace\"><span style=\"font-weight: bold\"> Non-trainable params: </span><span style=\"color: #00af00; text-decoration-color: #00af00\">128</span> (512.00 B)\n",
       "</pre>\n"
      ],
      "text/plain": [
       "\u001b[1m Non-trainable params: \u001b[0m\u001b[38;5;34m128\u001b[0m (512.00 B)\n"
      ]
     },
     "metadata": {},
     "output_type": "display_data"
    },
    {
     "name": "stdout",
     "output_type": "stream",
     "text": [
      "Classes: [0 1]\n",
      "Counts: [1197  313]\n",
      "Class weights: {0: 0.6307435254803676, 1: 2.412140575079872}\n",
      "----Training the network----\n",
      "Epoch 1/120\n",
      "48/48 - 4s - 91ms/step - accuracy: 0.4788 - loss: 0.8388 - val_accuracy: 0.5238 - val_loss: 0.6912\n",
      "Epoch 2/120\n",
      "48/48 - 0s - 10ms/step - accuracy: 0.5046 - loss: 0.8140 - val_accuracy: 0.6296 - val_loss: 0.6716\n",
      "Epoch 3/120\n",
      "48/48 - 0s - 9ms/step - accuracy: 0.5126 - loss: 0.8053 - val_accuracy: 0.7169 - val_loss: 0.6509\n",
      "Epoch 4/120\n",
      "48/48 - 0s - 9ms/step - accuracy: 0.5563 - loss: 0.7703 - val_accuracy: 0.7751 - val_loss: 0.6272\n",
      "Epoch 5/120\n",
      "48/48 - 0s - 9ms/step - accuracy: 0.5576 - loss: 0.7560 - val_accuracy: 0.7937 - val_loss: 0.6059\n",
      "Epoch 6/120\n",
      "48/48 - 0s - 9ms/step - accuracy: 0.5715 - loss: 0.7350 - val_accuracy: 0.8095 - val_loss: 0.5866\n",
      "Epoch 7/120\n",
      "48/48 - 0s - 10ms/step - accuracy: 0.5887 - loss: 0.7331 - val_accuracy: 0.8201 - val_loss: 0.5659\n",
      "Epoch 8/120\n",
      "48/48 - 0s - 10ms/step - accuracy: 0.5934 - loss: 0.7082 - val_accuracy: 0.8228 - val_loss: 0.5459\n",
      "Epoch 9/120\n",
      "48/48 - 0s - 9ms/step - accuracy: 0.6252 - loss: 0.7165 - val_accuracy: 0.8228 - val_loss: 0.5315\n",
      "Epoch 10/120\n",
      "48/48 - 0s - 9ms/step - accuracy: 0.6377 - loss: 0.6876 - val_accuracy: 0.8228 - val_loss: 0.5204\n",
      "Epoch 11/120\n",
      "48/48 - 0s - 9ms/step - accuracy: 0.6358 - loss: 0.6813 - val_accuracy: 0.8148 - val_loss: 0.5134\n",
      "Epoch 12/120\n",
      "48/48 - 0s - 9ms/step - accuracy: 0.6430 - loss: 0.6562 - val_accuracy: 0.8069 - val_loss: 0.5093\n",
      "Epoch 13/120\n",
      "48/48 - 0s - 9ms/step - accuracy: 0.6430 - loss: 0.6861 - val_accuracy: 0.8042 - val_loss: 0.4977\n",
      "Epoch 14/120\n",
      "48/48 - 0s - 9ms/step - accuracy: 0.6530 - loss: 0.6469 - val_accuracy: 0.8016 - val_loss: 0.4947\n",
      "Epoch 15/120\n",
      "48/48 - 0s - 9ms/step - accuracy: 0.6464 - loss: 0.6587 - val_accuracy: 0.7989 - val_loss: 0.4904\n",
      "Epoch 16/120\n",
      "48/48 - 0s - 9ms/step - accuracy: 0.6742 - loss: 0.6241 - val_accuracy: 0.7910 - val_loss: 0.4926\n",
      "Epoch 17/120\n",
      "48/48 - 0s - 9ms/step - accuracy: 0.6636 - loss: 0.6404 - val_accuracy: 0.7910 - val_loss: 0.4823\n",
      "Epoch 18/120\n",
      "48/48 - 0s - 9ms/step - accuracy: 0.6815 - loss: 0.6137 - val_accuracy: 0.7937 - val_loss: 0.4719\n",
      "Epoch 19/120\n",
      "48/48 - 0s - 9ms/step - accuracy: 0.7060 - loss: 0.5837 - val_accuracy: 0.7884 - val_loss: 0.4744\n",
      "Epoch 20/120\n",
      "48/48 - 0s - 9ms/step - accuracy: 0.7066 - loss: 0.6005 - val_accuracy: 0.7857 - val_loss: 0.4653\n",
      "Epoch 21/120\n",
      "48/48 - 0s - 9ms/step - accuracy: 0.6887 - loss: 0.5921 - val_accuracy: 0.7937 - val_loss: 0.4564\n",
      "Epoch 22/120\n",
      "48/48 - 0s - 9ms/step - accuracy: 0.6874 - loss: 0.6170 - val_accuracy: 0.7937 - val_loss: 0.4551\n",
      "Epoch 23/120\n",
      "48/48 - 0s - 9ms/step - accuracy: 0.7007 - loss: 0.5821 - val_accuracy: 0.7963 - val_loss: 0.4501\n",
      "Epoch 24/120\n",
      "48/48 - 0s - 9ms/step - accuracy: 0.7252 - loss: 0.5565 - val_accuracy: 0.7937 - val_loss: 0.4442\n",
      "Epoch 25/120\n",
      "48/48 - 0s - 9ms/step - accuracy: 0.7325 - loss: 0.5547 - val_accuracy: 0.7937 - val_loss: 0.4413\n",
      "Epoch 26/120\n",
      "48/48 - 0s - 9ms/step - accuracy: 0.7219 - loss: 0.5478 - val_accuracy: 0.7937 - val_loss: 0.4390\n",
      "Epoch 27/120\n",
      "48/48 - 0s - 9ms/step - accuracy: 0.7344 - loss: 0.5477 - val_accuracy: 0.7963 - val_loss: 0.4358\n",
      "Epoch 28/120\n",
      "48/48 - 0s - 9ms/step - accuracy: 0.7285 - loss: 0.5531 - val_accuracy: 0.7937 - val_loss: 0.4392\n",
      "Epoch 29/120\n",
      "48/48 - 1s - 13ms/step - accuracy: 0.7483 - loss: 0.5335 - val_accuracy: 0.7963 - val_loss: 0.4338\n",
      "Epoch 30/120\n",
      "48/48 - 0s - 10ms/step - accuracy: 0.7483 - loss: 0.5147 - val_accuracy: 0.7989 - val_loss: 0.4332\n",
      "Epoch 31/120\n",
      "48/48 - 0s - 10ms/step - accuracy: 0.7417 - loss: 0.5383 - val_accuracy: 0.7963 - val_loss: 0.4303\n",
      "Epoch 32/120\n",
      "48/48 - 0s - 9ms/step - accuracy: 0.7583 - loss: 0.5232 - val_accuracy: 0.8016 - val_loss: 0.4296\n",
      "Epoch 33/120\n",
      "48/48 - 0s - 9ms/step - accuracy: 0.7477 - loss: 0.5170 - val_accuracy: 0.8016 - val_loss: 0.4347\n",
      "Epoch 34/120\n",
      "48/48 - 0s - 9ms/step - accuracy: 0.7437 - loss: 0.5398 - val_accuracy: 0.7963 - val_loss: 0.4376\n",
      "Epoch 35/120\n",
      "48/48 - 0s - 9ms/step - accuracy: 0.7364 - loss: 0.5237 - val_accuracy: 0.7963 - val_loss: 0.4346\n",
      "Epoch 36/120\n",
      "48/48 - 0s - 10ms/step - accuracy: 0.7457 - loss: 0.5187 - val_accuracy: 0.8042 - val_loss: 0.4294\n",
      "Epoch 37/120\n",
      "48/48 - 0s - 9ms/step - accuracy: 0.7636 - loss: 0.5077 - val_accuracy: 0.8042 - val_loss: 0.4291\n",
      "Epoch 38/120\n",
      "48/48 - 1s - 13ms/step - accuracy: 0.7576 - loss: 0.5255 - val_accuracy: 0.8042 - val_loss: 0.4313\n",
      "Epoch 39/120\n",
      "48/48 - 1s - 12ms/step - accuracy: 0.7616 - loss: 0.5091 - val_accuracy: 0.8095 - val_loss: 0.4240\n",
      "Epoch 40/120\n",
      "48/48 - 0s - 9ms/step - accuracy: 0.7576 - loss: 0.4959 - val_accuracy: 0.8042 - val_loss: 0.4271\n",
      "Epoch 41/120\n",
      "48/48 - 0s - 8ms/step - accuracy: 0.7550 - loss: 0.4945 - val_accuracy: 0.8042 - val_loss: 0.4296\n",
      "Epoch 42/120\n",
      "48/48 - 0s - 8ms/step - accuracy: 0.7642 - loss: 0.5007 - val_accuracy: 0.8069 - val_loss: 0.4256\n",
      "Epoch 43/120\n",
      "48/48 - 0s - 9ms/step - accuracy: 0.7636 - loss: 0.5074 - val_accuracy: 0.8095 - val_loss: 0.4237\n",
      "Epoch 44/120\n",
      "48/48 - 0s - 8ms/step - accuracy: 0.7715 - loss: 0.4913 - val_accuracy: 0.8148 - val_loss: 0.4210\n",
      "Epoch 45/120\n",
      "48/48 - 0s - 9ms/step - accuracy: 0.7854 - loss: 0.4591 - val_accuracy: 0.8148 - val_loss: 0.4233\n",
      "Epoch 46/120\n",
      "48/48 - 0s - 8ms/step - accuracy: 0.7623 - loss: 0.5013 - val_accuracy: 0.8175 - val_loss: 0.4203\n",
      "Epoch 47/120\n",
      "48/48 - 0s - 9ms/step - accuracy: 0.7715 - loss: 0.4957 - val_accuracy: 0.8148 - val_loss: 0.4202\n",
      "Epoch 48/120\n",
      "48/48 - 0s - 9ms/step - accuracy: 0.7662 - loss: 0.5268 - val_accuracy: 0.8122 - val_loss: 0.4232\n",
      "Epoch 49/120\n",
      "48/48 - 0s - 9ms/step - accuracy: 0.7781 - loss: 0.4852 - val_accuracy: 0.8148 - val_loss: 0.4216\n",
      "Epoch 50/120\n",
      "48/48 - 0s - 9ms/step - accuracy: 0.7874 - loss: 0.4709 - val_accuracy: 0.8148 - val_loss: 0.4231\n",
      "Epoch 51/120\n",
      "48/48 - 0s - 9ms/step - accuracy: 0.7656 - loss: 0.4946 - val_accuracy: 0.8148 - val_loss: 0.4249\n",
      "Epoch 52/120\n",
      "48/48 - 0s - 9ms/step - accuracy: 0.7775 - loss: 0.4946 - val_accuracy: 0.8148 - val_loss: 0.4250\n",
      "Epoch 53/120\n",
      "48/48 - 0s - 9ms/step - accuracy: 0.7848 - loss: 0.4581 - val_accuracy: 0.8201 - val_loss: 0.4235\n",
      "Epoch 54/120\n",
      "48/48 - 0s - 9ms/step - accuracy: 0.7834 - loss: 0.4732 - val_accuracy: 0.8201 - val_loss: 0.4238\n",
      "Epoch 55/120\n",
      "48/48 - 0s - 9ms/step - accuracy: 0.7874 - loss: 0.4613 - val_accuracy: 0.8201 - val_loss: 0.4263\n",
      "Epoch 56/120\n",
      "48/48 - 0s - 9ms/step - accuracy: 0.7874 - loss: 0.4910 - val_accuracy: 0.8201 - val_loss: 0.4236\n",
      "Epoch 57/120\n",
      "48/48 - 0s - 9ms/step - accuracy: 0.7815 - loss: 0.4806 - val_accuracy: 0.8228 - val_loss: 0.4228\n",
      "Epoch 58/120\n",
      "48/48 - 0s - 9ms/step - accuracy: 0.7815 - loss: 0.4585 - val_accuracy: 0.8254 - val_loss: 0.4194\n",
      "Epoch 59/120\n",
      "48/48 - 0s - 9ms/step - accuracy: 0.7874 - loss: 0.4662 - val_accuracy: 0.8254 - val_loss: 0.4217\n",
      "Epoch 60/120\n",
      "48/48 - 0s - 8ms/step - accuracy: 0.7834 - loss: 0.4735 - val_accuracy: 0.8333 - val_loss: 0.4169\n",
      "Epoch 61/120\n",
      "48/48 - 1s - 14ms/step - accuracy: 0.7808 - loss: 0.4781 - val_accuracy: 0.8333 - val_loss: 0.4194\n",
      "Epoch 62/120\n",
      "48/48 - 0s - 9ms/step - accuracy: 0.7940 - loss: 0.4593 - val_accuracy: 0.8333 - val_loss: 0.4172\n",
      "Epoch 63/120\n",
      "48/48 - 0s - 10ms/step - accuracy: 0.7907 - loss: 0.4486 - val_accuracy: 0.8333 - val_loss: 0.4182\n",
      "Epoch 64/120\n",
      "48/48 - 0s - 9ms/step - accuracy: 0.7881 - loss: 0.4704 - val_accuracy: 0.8333 - val_loss: 0.4219\n",
      "Epoch 65/120\n",
      "48/48 - 0s - 9ms/step - accuracy: 0.7887 - loss: 0.4481 - val_accuracy: 0.8333 - val_loss: 0.4183\n",
      "Epoch 66/120\n",
      "48/48 - 0s - 9ms/step - accuracy: 0.7940 - loss: 0.4655 - val_accuracy: 0.8333 - val_loss: 0.4243\n",
      "Epoch 67/120\n",
      "48/48 - 0s - 9ms/step - accuracy: 0.7987 - loss: 0.4349 - val_accuracy: 0.8333 - val_loss: 0.4212\n",
      "Epoch 68/120\n",
      "48/48 - 0s - 9ms/step - accuracy: 0.7993 - loss: 0.4608 - val_accuracy: 0.8333 - val_loss: 0.4210\n",
      "Epoch 69/120\n",
      "48/48 - 0s - 8ms/step - accuracy: 0.7901 - loss: 0.4447 - val_accuracy: 0.8333 - val_loss: 0.4169\n",
      "Epoch 70/120\n",
      "48/48 - 0s - 9ms/step - accuracy: 0.7887 - loss: 0.4669 - val_accuracy: 0.8333 - val_loss: 0.4150\n",
      "Epoch 71/120\n",
      "48/48 - 0s - 8ms/step - accuracy: 0.7940 - loss: 0.4651 - val_accuracy: 0.8333 - val_loss: 0.4183\n",
      "Epoch 72/120\n",
      "48/48 - 0s - 8ms/step - accuracy: 0.8119 - loss: 0.4338 - val_accuracy: 0.8333 - val_loss: 0.4144\n",
      "Epoch 73/120\n",
      "48/48 - 0s - 9ms/step - accuracy: 0.8026 - loss: 0.4546 - val_accuracy: 0.8360 - val_loss: 0.4143\n",
      "Epoch 74/120\n",
      "48/48 - 0s - 8ms/step - accuracy: 0.8079 - loss: 0.4567 - val_accuracy: 0.8333 - val_loss: 0.4179\n",
      "Epoch 75/120\n",
      "48/48 - 0s - 9ms/step - accuracy: 0.7940 - loss: 0.4647 - val_accuracy: 0.8360 - val_loss: 0.4169\n",
      "Epoch 76/120\n",
      "48/48 - 0s - 9ms/step - accuracy: 0.8106 - loss: 0.4290 - val_accuracy: 0.8360 - val_loss: 0.4137\n",
      "Epoch 77/120\n",
      "48/48 - 0s - 9ms/step - accuracy: 0.8146 - loss: 0.4258 - val_accuracy: 0.8360 - val_loss: 0.4130\n",
      "Epoch 78/120\n",
      "48/48 - 0s - 9ms/step - accuracy: 0.8172 - loss: 0.4248 - val_accuracy: 0.8360 - val_loss: 0.4175\n",
      "Epoch 79/120\n",
      "48/48 - 0s - 9ms/step - accuracy: 0.8033 - loss: 0.4414 - val_accuracy: 0.8360 - val_loss: 0.4144\n",
      "Epoch 80/120\n",
      "48/48 - 0s - 9ms/step - accuracy: 0.8139 - loss: 0.4226 - val_accuracy: 0.8360 - val_loss: 0.4126\n",
      "Epoch 81/120\n",
      "48/48 - 0s - 9ms/step - accuracy: 0.8020 - loss: 0.4420 - val_accuracy: 0.8360 - val_loss: 0.4123\n",
      "Epoch 82/120\n",
      "48/48 - 0s - 10ms/step - accuracy: 0.8046 - loss: 0.4196 - val_accuracy: 0.8360 - val_loss: 0.4148\n",
      "Epoch 83/120\n",
      "48/48 - 0s - 9ms/step - accuracy: 0.8053 - loss: 0.4204 - val_accuracy: 0.8360 - val_loss: 0.4083\n",
      "Epoch 84/120\n",
      "48/48 - 0s - 9ms/step - accuracy: 0.8126 - loss: 0.4062 - val_accuracy: 0.8413 - val_loss: 0.4039\n",
      "Epoch 85/120\n",
      "48/48 - 0s - 9ms/step - accuracy: 0.8053 - loss: 0.4306 - val_accuracy: 0.8413 - val_loss: 0.4053\n",
      "Epoch 86/120\n",
      "48/48 - 0s - 9ms/step - accuracy: 0.7987 - loss: 0.4431 - val_accuracy: 0.8360 - val_loss: 0.4083\n",
      "Epoch 87/120\n",
      "48/48 - 0s - 9ms/step - accuracy: 0.7980 - loss: 0.4381 - val_accuracy: 0.8413 - val_loss: 0.4040\n",
      "Epoch 88/120\n",
      "48/48 - 0s - 9ms/step - accuracy: 0.8073 - loss: 0.4182 - val_accuracy: 0.8439 - val_loss: 0.4015\n",
      "Epoch 89/120\n",
      "48/48 - 0s - 9ms/step - accuracy: 0.8106 - loss: 0.4282 - val_accuracy: 0.8466 - val_loss: 0.4020\n",
      "Epoch 90/120\n",
      "48/48 - 0s - 9ms/step - accuracy: 0.8146 - loss: 0.4113 - val_accuracy: 0.8466 - val_loss: 0.4013\n",
      "Epoch 91/120\n",
      "48/48 - 0s - 9ms/step - accuracy: 0.8119 - loss: 0.4281 - val_accuracy: 0.8386 - val_loss: 0.4102\n",
      "Epoch 92/120\n",
      "48/48 - 0s - 9ms/step - accuracy: 0.8172 - loss: 0.4140 - val_accuracy: 0.8413 - val_loss: 0.4109\n",
      "Epoch 93/120\n",
      "48/48 - 0s - 9ms/step - accuracy: 0.8119 - loss: 0.4190 - val_accuracy: 0.8466 - val_loss: 0.4069\n",
      "Epoch 94/120\n",
      "48/48 - 0s - 9ms/step - accuracy: 0.8106 - loss: 0.4168 - val_accuracy: 0.8386 - val_loss: 0.4133\n",
      "Epoch 95/120\n",
      "48/48 - 0s - 9ms/step - accuracy: 0.8192 - loss: 0.3969 - val_accuracy: 0.8466 - val_loss: 0.4057\n",
      "Epoch 96/120\n",
      "48/48 - 0s - 9ms/step - accuracy: 0.8265 - loss: 0.4008 - val_accuracy: 0.8466 - val_loss: 0.4005\n",
      "Epoch 97/120\n",
      "48/48 - 0s - 9ms/step - accuracy: 0.8278 - loss: 0.4014 - val_accuracy: 0.8466 - val_loss: 0.4053\n",
      "Epoch 98/120\n",
      "48/48 - 0s - 9ms/step - accuracy: 0.8417 - loss: 0.3760 - val_accuracy: 0.8466 - val_loss: 0.4073\n",
      "Epoch 99/120\n",
      "48/48 - 0s - 9ms/step - accuracy: 0.8119 - loss: 0.4298 - val_accuracy: 0.8386 - val_loss: 0.4143\n",
      "Epoch 100/120\n",
      "48/48 - 0s - 9ms/step - accuracy: 0.8073 - loss: 0.4080 - val_accuracy: 0.8439 - val_loss: 0.4100\n",
      "Epoch 101/120\n",
      "48/48 - 0s - 9ms/step - accuracy: 0.8205 - loss: 0.4011 - val_accuracy: 0.8466 - val_loss: 0.4052\n",
      "Epoch 102/120\n",
      "48/48 - 0s - 10ms/step - accuracy: 0.8245 - loss: 0.3986 - val_accuracy: 0.8439 - val_loss: 0.4052\n",
      "Epoch 103/120\n",
      "48/48 - 0s - 9ms/step - accuracy: 0.8179 - loss: 0.4132 - val_accuracy: 0.8466 - val_loss: 0.4033\n",
      "Epoch 104/120\n",
      "48/48 - 0s - 10ms/step - accuracy: 0.8285 - loss: 0.4016 - val_accuracy: 0.8439 - val_loss: 0.4018\n",
      "Epoch 105/120\n",
      "48/48 - 0s - 9ms/step - accuracy: 0.8232 - loss: 0.4082 - val_accuracy: 0.8439 - val_loss: 0.4064\n",
      "Epoch 106/120\n",
      "48/48 - 0s - 9ms/step - accuracy: 0.8351 - loss: 0.3667 - val_accuracy: 0.8439 - val_loss: 0.4059\n",
      "Epoch 107/120\n",
      "48/48 - 0s - 9ms/step - accuracy: 0.8364 - loss: 0.3812 - val_accuracy: 0.8439 - val_loss: 0.4031\n",
      "Epoch 108/120\n",
      "48/48 - 0s - 9ms/step - accuracy: 0.8358 - loss: 0.3835 - val_accuracy: 0.8413 - val_loss: 0.4023\n",
      "Epoch 109/120\n",
      "48/48 - 0s - 9ms/step - accuracy: 0.8305 - loss: 0.3834 - val_accuracy: 0.8413 - val_loss: 0.4032\n",
      "Epoch 110/120\n",
      "48/48 - 0s - 9ms/step - accuracy: 0.8278 - loss: 0.3844 - val_accuracy: 0.8439 - val_loss: 0.4034\n",
      "Epoch 111/120\n",
      "48/48 - 0s - 9ms/step - accuracy: 0.8364 - loss: 0.3701 - val_accuracy: 0.8413 - val_loss: 0.4050\n",
      "Epoch 112/120\n",
      "48/48 - 0s - 9ms/step - accuracy: 0.8238 - loss: 0.3774 - val_accuracy: 0.8439 - val_loss: 0.4040\n",
      "Epoch 113/120\n",
      "48/48 - 0s - 9ms/step - accuracy: 0.8371 - loss: 0.3630 - val_accuracy: 0.8413 - val_loss: 0.3960\n",
      "Epoch 114/120\n",
      "48/48 - 0s - 9ms/step - accuracy: 0.8464 - loss: 0.3607 - val_accuracy: 0.8413 - val_loss: 0.3996\n",
      "Epoch 115/120\n",
      "48/48 - 0s - 9ms/step - accuracy: 0.8430 - loss: 0.3686 - val_accuracy: 0.8386 - val_loss: 0.4026\n",
      "Epoch 116/120\n",
      "48/48 - 0s - 9ms/step - accuracy: 0.8331 - loss: 0.3808 - val_accuracy: 0.8413 - val_loss: 0.4023\n",
      "Epoch 117/120\n",
      "48/48 - 0s - 9ms/step - accuracy: 0.8397 - loss: 0.3619 - val_accuracy: 0.8466 - val_loss: 0.3981\n",
      "Epoch 118/120\n",
      "48/48 - 0s - 9ms/step - accuracy: 0.8543 - loss: 0.3552 - val_accuracy: 0.8466 - val_loss: 0.3964\n",
      "Epoch 119/120\n",
      "48/48 - 0s - 9ms/step - accuracy: 0.8325 - loss: 0.3600 - val_accuracy: 0.8492 - val_loss: 0.3945\n",
      "Epoch 120/120\n",
      "48/48 - 0s - 9ms/step - accuracy: 0.8457 - loss: 0.3340 - val_accuracy: 0.8492 - val_loss: 0.3946\n",
      "Train score: [0.24222174286842346, 0.8960264921188354]\n",
      "Validation score: [0.39464399218559265, 0.8492063283920288]\n"
     ]
    }
   ],
   "source": [
    "D = 64 #embedding\n",
    "epochs = 120\n",
    "r,model,n_epochs = rnn_model(Xtrain,Xval,ytrain,yval,V,D,max_seq_len,epochs)"
   ]
  },
  {
   "cell_type": "code",
   "execution_count": 40,
   "id": "dd183e86-da8b-4293-bf6d-2d2b1c9a135a",
   "metadata": {},
   "outputs": [
    {
     "name": "stdout",
     "output_type": "stream",
     "text": [
      "Evaluate Model Performance on Test set\n",
      "\u001b[1m15/15\u001b[0m \u001b[32m━━━━━━━━━━━━━━━━━━━━\u001b[0m\u001b[37m\u001b[0m \u001b[1m0s\u001b[0m 3ms/step - accuracy: 0.8642 - loss: 0.3555 \n",
      "{'loss': 0.38578107953071594, 'compile_metrics': 0.8538135886192322}\n"
     ]
    }
   ],
   "source": [
    "print(\"Evaluate Model Performance on Test set\")\n",
    "result = model.evaluate(pad_test,ytest)\n",
    "print(dict(zip(model.metrics_names, result)))"
   ]
  },
  {
   "cell_type": "code",
   "execution_count": 41,
   "id": "4b9b8087-6b92-4325-bd73-9483478ea5ee",
   "metadata": {},
   "outputs": [
    {
     "data": {
      "image/png": "[encoded data removed]",
      "text/plain": [
       "<Figure size 1000x500 with 2 Axes>"
      ]
     },
     "metadata": {},
     "output_type": "display_data"
    }
   ],
   "source": [
    "plotLearningCurve(r,n_epochs,'2')"
   ]
  },
  {
   "cell_type": "code",
   "execution_count": 42,
   "id": "961f7c51-9570-4576-88bb-a4ebe7273e0a",
   "metadata": {},
   "outputs": [
    {
     "name": "stdout",
     "output_type": "stream",
     "text": [
      "\u001b[1m15/15\u001b[0m \u001b[32m━━━━━━━━━━━━━━━━━━━━\u001b[0m\u001b[37m\u001b[0m \u001b[1m1s\u001b[0m 26ms/step\n"
     ]
    },
    {
     "data": {
      "image/png": "[encoded data removed]",
      "text/plain": [
       "<Figure size 640x480 with 2 Axes>"
      ]
     },
     "metadata": {},
     "output_type": "display_data"
    },
    {
     "name": "stdout",
     "output_type": "stream",
     "text": [
      "              precision    recall  f1-score   support\n",
      "\n",
      "           0       0.95      0.86      0.90       369\n",
      "           1       0.62      0.84      0.72       103\n",
      "\n",
      "    accuracy                           0.85       472\n",
      "   macro avg       0.79      0.85      0.81       472\n",
      "weighted avg       0.88      0.85      0.86       472\n",
      "\n"
     ]
    }
   ],
   "source": [
    "#Generate predictions for the test dataset\n",
    "ypred = model.predict(pad_test)\n",
    "ypred = ypred>0.5\n",
    "#Get the confusion matrix\n",
    "cf_matrix = confusion_matrix(ytest, ypred)\n",
    "class_names = ['Fear', 'Greed']\n",
    "sns.heatmap(cf_matrix, annot=True, fmt='d', cmap='Blues', xticklabels=class_names, yticklabels=class_names)\n",
    "plt.xlabel('Predicted label')\n",
    "plt.ylabel('True label')\n",
    "plt.savefig('RNNmat.png')\n",
    "plt.show()\n",
    "print(classification_report(ytest, ypred))"
   ]
  }
 ],
 "metadata": {
  "kernelspec": {
   "display_name": "Python 3 (ipykernel)",
   "language": "python",
   "name": "python3"
  },
  "language_info": {
   "codemirror_mode": {
    "name": "ipython",
    "version": 3
   },
   "file_extension": ".py",
   "mimetype": "text/x-python",
   "name": "python",
   "nbconvert_exporter": "python",
   "pygments_lexer": "ipython3",
   "version": "3.11.6"
  }
 },
 "nbformat": 4,
 "nbformat_minor": 5
}
